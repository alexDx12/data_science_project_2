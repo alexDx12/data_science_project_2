{
 "cells": [
  {
   "cell_type": "markdown",
   "id": "5d294ef7",
   "metadata": {},
   "source": [
    "# Курсовой проект"
   ]
  },
  {
   "cell_type": "code",
   "execution_count": 1,
   "id": "b00e64d4",
   "metadata": {},
   "outputs": [],
   "source": [
    "# Александр Валентинович Дунаев\n",
    "# Группа 1401"
   ]
  },
  {
   "cell_type": "markdown",
   "id": "ab5ccd41",
   "metadata": {},
   "source": [
    "**Задача**\n",
    "\n",
    "Требуется, на основании имеющихся данных о клиентах банка, построить модель, используя обучающий датасет, для прогнозирования невыполнения долговых обязательств по текущему кредиту. Выполнить прогноз для примеров из тестового датасета.\n",
    "\n",
    "**Наименование файлов с данными**\n",
    "\n",
    "course_project_train.csv - обучающий датасет<br>\n",
    "course_project_test.csv - тестовый датасет\n",
    "\n",
    "**Целевая переменная**\n",
    "\n",
    "Credit Default - факт невыполнения кредитных обязательств\n",
    "\n",
    "**Метрика качества**\n",
    "\n",
    "F1-score (sklearn.metrics.f1_score)\n",
    "\n",
    "**Требования к решению**\n",
    "\n",
    "*Целевая метрика*\n",
    "* F1 > 0.5\n",
    "* Метрика оценивается по качеству прогноза для главного класса (1 - просрочка по кредиту)\n",
    "\n",
    "*Решение должно содержать*\n",
    "1. Тетрадка Jupyter Notebook с кодом Вашего решения, названная по образцу {ФИО}\\_solution.ipynb, пример SShirkin\\_solution.ipynb\n",
    "2. Файл CSV с прогнозами целевой переменной для тестового датасета, названный по образцу {ФИО}\\_predictions.csv, пример SShirkin\\_predictions.csv\n",
    "\n",
    "*Рекомендации для файла с кодом (ipynb)*\n",
    "1. Файл должен содержать заголовки и комментарии (markdown)\n",
    "2. Повторяющиеся операции лучше оформлять в виде функций\n",
    "3. Не делать вывод большого количества строк таблиц (5-10 достаточно)\n",
    "4. По возможности добавлять графики, описывающие данные (около 3-5)\n",
    "5. Добавлять только лучшую модель, то есть не включать в код все варианты решения проекта\n",
    "6. Скрипт проекта должен отрабатывать от начала и до конца (от загрузки данных до выгрузки предсказаний)\n",
    "7. Весь проект должен быть в одном скрипте (файл ipynb).\n",
    "8. Допускается применение библиотек Python и моделей машинного обучения,\n",
    "которые были в данном курсе.\n",
    "\n",
    "**Сроки сдачи**\n",
    "\n",
    "Cдать проект нужно в течение 5 дней после окончания последнего вебинара.\n",
    "Оценки работ, сданных до дедлайна, будут представлены в виде рейтинга, ранжированного по заданной метрике качества.\n",
    "Проекты, сданные после дедлайна или сданные повторно, не попадают в рейтинг, но можно будет узнать результат."
   ]
  },
  {
   "cell_type": "markdown",
   "id": "6ea9c8d0",
   "metadata": {},
   "source": [
    "### Примерное описание этапов выполнения курсового проекта<a class=\"anchor\" id=\"course_project_steps\"></a>"
   ]
  },
  {
   "cell_type": "markdown",
   "id": "341ace94",
   "metadata": {},
   "source": [
    "**Построение модели классификации**\n",
    "1. Обзор обучающего датасета\n",
    "2. Обработка выбросов\n",
    "3. Обработка пропусков\n",
    "4. Анализ данных\n",
    "5. Отбор признаков\n",
    "6. Балансировка классов\n",
    "7. Подбор моделей, получение бейзлана\n",
    "8. Выбор наилучшей модели, настройка гиперпараметров\n",
    "9. Проверка качества, борьба с переобучением\n",
    "10. Интерпретация результатов\n",
    "\n",
    "**Прогнозирование на тестовом датасете**\n",
    "1. Выполнить для тестового датасета те же этапы обработки и постронияния признаков\n",
    "2. Спрогнозировать целевую переменную, используя модель, построенную на обучающем датасете\n",
    "3. Прогнозы должны быть для всех примеров из тестового датасета (для всех строк)\n",
    "4. Соблюдать исходный порядок примеров из тестового датасета"
   ]
  },
  {
   "cell_type": "markdown",
   "id": "6b63995e",
   "metadata": {},
   "source": [
    "### Подключение библиотек и скриптов"
   ]
  },
  {
   "cell_type": "code",
   "execution_count": 2,
   "id": "c1f71a4c",
   "metadata": {},
   "outputs": [],
   "source": [
    "import pandas as pd\n",
    "import numpy as np\n",
    "\n",
    "from sklearn.model_selection import train_test_split\n",
    "from sklearn.model_selection import KFold, GridSearchCV, RandomizedSearchCV\n",
    "from sklearn.metrics import classification_report\n",
    "\n",
    "from sklearn.linear_model import LogisticRegression\n",
    "from sklearn.neighbors import KNeighborsClassifier\n",
    "import xgboost as xgb, lightgbm as lgbm, catboost as catb\n",
    "\n",
    "import matplotlib.pyplot as plt\n",
    "import seaborn as sns"
   ]
  },
  {
   "cell_type": "markdown",
   "id": "cd486c83",
   "metadata": {},
   "source": [
    "### Создание вспомогательных структур"
   ]
  },
  {
   "cell_type": "code",
   "execution_count": 3,
   "id": "86574bae",
   "metadata": {},
   "outputs": [],
   "source": [
    "def get_classification_report(y_train_true, y_train_pred, y_test_true, y_test_pred):\n",
    "    print('TRAIN\\n\\n' + classification_report(y_train_true, y_train_pred))\n",
    "    print('TEST\\n\\n' + classification_report(y_test_true, y_test_pred))\n",
    "    print('CONFUSION MATRIX\\n')\n",
    "    print(pd.crosstab(y_test_true, y_test_pred))"
   ]
  },
  {
   "cell_type": "code",
   "execution_count": 4,
   "id": "ccefd52c",
   "metadata": {},
   "outputs": [],
   "source": [
    "def show_feature_importances(feature_names, feature_importances, get_top=None):\n",
    "    \"\"\"Функция построения диаграммы важности признаков.\"\"\"\n",
    "    feature_importances = pd.DataFrame({'feature': feature_names, 'importance': feature_importances})\n",
    "    feature_importances = feature_importances.sort_values('importance', ascending=False)\n",
    "       \n",
    "    plt.figure(figsize = (20, len(feature_importances) * 0.355))\n",
    "    \n",
    "    sns.barplot(feature_importances['importance'], feature_importances['feature'])\n",
    "    \n",
    "    plt.xlabel('Importance')\n",
    "    plt.title('Importance of features')\n",
    "    plt.show()\n",
    "    \n",
    "    if get_top is not None:\n",
    "        return feature_importances['feature'][:get_top].tolist()"
   ]
  },
  {
   "cell_type": "markdown",
   "id": "9057e322",
   "metadata": {},
   "source": [
    "### Загрузка и первичный анализ датасета"
   ]
  },
  {
   "cell_type": "markdown",
   "id": "e409996e",
   "metadata": {},
   "source": [
    "Описание датасета:"
   ]
  },
  {
   "cell_type": "markdown",
   "id": "b84e60d8",
   "metadata": {},
   "source": [
    "* **Home Ownership** - домовладение\n",
    "* **Annual Income** - годовой доход\n",
    "* **Years in current job** - количество лет на текущем месте работы\n",
    "* **Tax Liens** - налоговые обременения\n",
    "* **Number of Open Accounts** - количество открытых счетов\n",
    "* **Years of Credit History** - количество лет кредитной истории\n",
    "* **Maximum Open Credit** - наибольший открытый кредит\n",
    "* **Number of Credit Problems** - количество проблем с кредитом\n",
    "* **Months since last delinquent** - количество месяцев с последней просрочки платежа\n",
    "* **Bankruptcies** - банкротства\n",
    "* **Purpose** - цель кредита\n",
    "* **Term** - срок кредита\n",
    "* **Current Loan Amount** - текущая сумма кредита\n",
    "* **Current Credit Balance** - текущий кредитный баланс\n",
    "* **Monthly Debt** - ежемесячный долг\n",
    "* **Credit Default** - факт невыполнения кредитных обязательств (0 - погашен вовремя, 1 - просрочка)"
   ]
  },
  {
   "cell_type": "markdown",
   "id": "2617c695",
   "metadata": {},
   "source": [
    "Пути к файлам:"
   ]
  },
  {
   "cell_type": "code",
   "execution_count": 5,
   "id": "0fe60faa",
   "metadata": {},
   "outputs": [],
   "source": [
    "TRAIN_DATASET_PATH = './course_project_train.csv'\n",
    "TEST_DATASET_PATH = './course_project_test.csv'"
   ]
  },
  {
   "cell_type": "markdown",
   "id": "900b8475",
   "metadata": {},
   "source": [
    "Загрузка данных:"
   ]
  },
  {
   "cell_type": "code",
   "execution_count": 6,
   "id": "4a67b9e4",
   "metadata": {},
   "outputs": [],
   "source": [
    "df_train = pd.read_csv(TRAIN_DATASET_PATH)\n",
    "df_test = pd.read_csv(TEST_DATASET_PATH)"
   ]
  },
  {
   "cell_type": "markdown",
   "id": "636399fb",
   "metadata": {},
   "source": [
    "Первичный анализ обучающего датасета:"
   ]
  },
  {
   "cell_type": "code",
   "execution_count": 7,
   "id": "62778746",
   "metadata": {},
   "outputs": [
    {
     "data": {
      "text/plain": [
       "(7500, 17)"
      ]
     },
     "execution_count": 7,
     "metadata": {},
     "output_type": "execute_result"
    }
   ],
   "source": [
    "df_train.shape"
   ]
  },
  {
   "cell_type": "code",
   "execution_count": 8,
   "id": "89314af2",
   "metadata": {},
   "outputs": [
    {
     "data": {
      "text/html": [
       "<div>\n",
       "<style scoped>\n",
       "    .dataframe tbody tr th:only-of-type {\n",
       "        vertical-align: middle;\n",
       "    }\n",
       "\n",
       "    .dataframe tbody tr th {\n",
       "        vertical-align: top;\n",
       "    }\n",
       "\n",
       "    .dataframe thead th {\n",
       "        text-align: right;\n",
       "    }\n",
       "</style>\n",
       "<table border=\"1\" class=\"dataframe\">\n",
       "  <thead>\n",
       "    <tr style=\"text-align: right;\">\n",
       "      <th></th>\n",
       "      <th>Home Ownership</th>\n",
       "      <th>Annual Income</th>\n",
       "      <th>Years in current job</th>\n",
       "      <th>Tax Liens</th>\n",
       "      <th>Number of Open Accounts</th>\n",
       "      <th>Years of Credit History</th>\n",
       "      <th>Maximum Open Credit</th>\n",
       "      <th>Number of Credit Problems</th>\n",
       "      <th>Months since last delinquent</th>\n",
       "      <th>Bankruptcies</th>\n",
       "      <th>Purpose</th>\n",
       "      <th>Term</th>\n",
       "      <th>Current Loan Amount</th>\n",
       "      <th>Current Credit Balance</th>\n",
       "      <th>Monthly Debt</th>\n",
       "      <th>Credit Score</th>\n",
       "      <th>Credit Default</th>\n",
       "    </tr>\n",
       "  </thead>\n",
       "  <tbody>\n",
       "    <tr>\n",
       "      <th>0</th>\n",
       "      <td>Own Home</td>\n",
       "      <td>482087.0</td>\n",
       "      <td>NaN</td>\n",
       "      <td>0.0</td>\n",
       "      <td>11.0</td>\n",
       "      <td>26.3</td>\n",
       "      <td>685960.0</td>\n",
       "      <td>1.0</td>\n",
       "      <td>NaN</td>\n",
       "      <td>1.0</td>\n",
       "      <td>debt consolidation</td>\n",
       "      <td>Short Term</td>\n",
       "      <td>99999999.0</td>\n",
       "      <td>47386.0</td>\n",
       "      <td>7914.0</td>\n",
       "      <td>749.0</td>\n",
       "      <td>0</td>\n",
       "    </tr>\n",
       "    <tr>\n",
       "      <th>1</th>\n",
       "      <td>Own Home</td>\n",
       "      <td>1025487.0</td>\n",
       "      <td>10+ years</td>\n",
       "      <td>0.0</td>\n",
       "      <td>15.0</td>\n",
       "      <td>15.3</td>\n",
       "      <td>1181730.0</td>\n",
       "      <td>0.0</td>\n",
       "      <td>NaN</td>\n",
       "      <td>0.0</td>\n",
       "      <td>debt consolidation</td>\n",
       "      <td>Long Term</td>\n",
       "      <td>264968.0</td>\n",
       "      <td>394972.0</td>\n",
       "      <td>18373.0</td>\n",
       "      <td>737.0</td>\n",
       "      <td>1</td>\n",
       "    </tr>\n",
       "    <tr>\n",
       "      <th>2</th>\n",
       "      <td>Home Mortgage</td>\n",
       "      <td>751412.0</td>\n",
       "      <td>8 years</td>\n",
       "      <td>0.0</td>\n",
       "      <td>11.0</td>\n",
       "      <td>35.0</td>\n",
       "      <td>1182434.0</td>\n",
       "      <td>0.0</td>\n",
       "      <td>NaN</td>\n",
       "      <td>0.0</td>\n",
       "      <td>debt consolidation</td>\n",
       "      <td>Short Term</td>\n",
       "      <td>99999999.0</td>\n",
       "      <td>308389.0</td>\n",
       "      <td>13651.0</td>\n",
       "      <td>742.0</td>\n",
       "      <td>0</td>\n",
       "    </tr>\n",
       "    <tr>\n",
       "      <th>3</th>\n",
       "      <td>Own Home</td>\n",
       "      <td>805068.0</td>\n",
       "      <td>6 years</td>\n",
       "      <td>0.0</td>\n",
       "      <td>8.0</td>\n",
       "      <td>22.5</td>\n",
       "      <td>147400.0</td>\n",
       "      <td>1.0</td>\n",
       "      <td>NaN</td>\n",
       "      <td>1.0</td>\n",
       "      <td>debt consolidation</td>\n",
       "      <td>Short Term</td>\n",
       "      <td>121396.0</td>\n",
       "      <td>95855.0</td>\n",
       "      <td>11338.0</td>\n",
       "      <td>694.0</td>\n",
       "      <td>0</td>\n",
       "    </tr>\n",
       "    <tr>\n",
       "      <th>4</th>\n",
       "      <td>Rent</td>\n",
       "      <td>776264.0</td>\n",
       "      <td>8 years</td>\n",
       "      <td>0.0</td>\n",
       "      <td>13.0</td>\n",
       "      <td>13.6</td>\n",
       "      <td>385836.0</td>\n",
       "      <td>1.0</td>\n",
       "      <td>NaN</td>\n",
       "      <td>0.0</td>\n",
       "      <td>debt consolidation</td>\n",
       "      <td>Short Term</td>\n",
       "      <td>125840.0</td>\n",
       "      <td>93309.0</td>\n",
       "      <td>7180.0</td>\n",
       "      <td>719.0</td>\n",
       "      <td>0</td>\n",
       "    </tr>\n",
       "  </tbody>\n",
       "</table>\n",
       "</div>"
      ],
      "text/plain": [
       "  Home Ownership  Annual Income Years in current job  Tax Liens  \\\n",
       "0       Own Home       482087.0                  NaN        0.0   \n",
       "1       Own Home      1025487.0            10+ years        0.0   \n",
       "2  Home Mortgage       751412.0              8 years        0.0   \n",
       "3       Own Home       805068.0              6 years        0.0   \n",
       "4           Rent       776264.0              8 years        0.0   \n",
       "\n",
       "   Number of Open Accounts  Years of Credit History  Maximum Open Credit  \\\n",
       "0                     11.0                     26.3             685960.0   \n",
       "1                     15.0                     15.3            1181730.0   \n",
       "2                     11.0                     35.0            1182434.0   \n",
       "3                      8.0                     22.5             147400.0   \n",
       "4                     13.0                     13.6             385836.0   \n",
       "\n",
       "   Number of Credit Problems  Months since last delinquent  Bankruptcies  \\\n",
       "0                        1.0                           NaN           1.0   \n",
       "1                        0.0                           NaN           0.0   \n",
       "2                        0.0                           NaN           0.0   \n",
       "3                        1.0                           NaN           1.0   \n",
       "4                        1.0                           NaN           0.0   \n",
       "\n",
       "              Purpose        Term  Current Loan Amount  \\\n",
       "0  debt consolidation  Short Term           99999999.0   \n",
       "1  debt consolidation   Long Term             264968.0   \n",
       "2  debt consolidation  Short Term           99999999.0   \n",
       "3  debt consolidation  Short Term             121396.0   \n",
       "4  debt consolidation  Short Term             125840.0   \n",
       "\n",
       "   Current Credit Balance  Monthly Debt  Credit Score  Credit Default  \n",
       "0                 47386.0        7914.0         749.0               0  \n",
       "1                394972.0       18373.0         737.0               1  \n",
       "2                308389.0       13651.0         742.0               0  \n",
       "3                 95855.0       11338.0         694.0               0  \n",
       "4                 93309.0        7180.0         719.0               0  "
      ]
     },
     "execution_count": 8,
     "metadata": {},
     "output_type": "execute_result"
    }
   ],
   "source": [
    "df_train.head()"
   ]
  },
  {
   "cell_type": "code",
   "execution_count": 9,
   "id": "c50f1b6e",
   "metadata": {},
   "outputs": [
    {
     "name": "stdout",
     "output_type": "stream",
     "text": [
      "<class 'pandas.core.frame.DataFrame'>\n",
      "RangeIndex: 7500 entries, 0 to 7499\n",
      "Data columns (total 17 columns):\n",
      " #   Column                        Non-Null Count  Dtype  \n",
      "---  ------                        --------------  -----  \n",
      " 0   Home Ownership                7500 non-null   object \n",
      " 1   Annual Income                 5943 non-null   float64\n",
      " 2   Years in current job          7129 non-null   object \n",
      " 3   Tax Liens                     7500 non-null   float64\n",
      " 4   Number of Open Accounts       7500 non-null   float64\n",
      " 5   Years of Credit History       7500 non-null   float64\n",
      " 6   Maximum Open Credit           7500 non-null   float64\n",
      " 7   Number of Credit Problems     7500 non-null   float64\n",
      " 8   Months since last delinquent  3419 non-null   float64\n",
      " 9   Bankruptcies                  7486 non-null   float64\n",
      " 10  Purpose                       7500 non-null   object \n",
      " 11  Term                          7500 non-null   object \n",
      " 12  Current Loan Amount           7500 non-null   float64\n",
      " 13  Current Credit Balance        7500 non-null   float64\n",
      " 14  Monthly Debt                  7500 non-null   float64\n",
      " 15  Credit Score                  5943 non-null   float64\n",
      " 16  Credit Default                7500 non-null   int64  \n",
      "dtypes: float64(12), int64(1), object(4)\n",
      "memory usage: 996.2+ KB\n"
     ]
    }
   ],
   "source": [
    "df_train.info()"
   ]
  },
  {
   "cell_type": "markdown",
   "id": "77b41453",
   "metadata": {},
   "source": [
    "Признаки 'Annual Income', 'Years in current job', 'Months since last delinquent', 'Bankruptcies' и 'Credit Score' содержат пропуски."
   ]
  },
  {
   "cell_type": "code",
   "execution_count": 10,
   "id": "5b0025db",
   "metadata": {},
   "outputs": [
    {
     "data": {
      "text/html": [
       "<div>\n",
       "<style scoped>\n",
       "    .dataframe tbody tr th:only-of-type {\n",
       "        vertical-align: middle;\n",
       "    }\n",
       "\n",
       "    .dataframe tbody tr th {\n",
       "        vertical-align: top;\n",
       "    }\n",
       "\n",
       "    .dataframe thead th {\n",
       "        text-align: right;\n",
       "    }\n",
       "</style>\n",
       "<table border=\"1\" class=\"dataframe\">\n",
       "  <thead>\n",
       "    <tr style=\"text-align: right;\">\n",
       "      <th></th>\n",
       "      <th>Annual Income</th>\n",
       "      <th>Tax Liens</th>\n",
       "      <th>Number of Open Accounts</th>\n",
       "      <th>Years of Credit History</th>\n",
       "      <th>Maximum Open Credit</th>\n",
       "      <th>Number of Credit Problems</th>\n",
       "      <th>Months since last delinquent</th>\n",
       "      <th>Bankruptcies</th>\n",
       "      <th>Current Loan Amount</th>\n",
       "      <th>Current Credit Balance</th>\n",
       "      <th>Monthly Debt</th>\n",
       "      <th>Credit Score</th>\n",
       "      <th>Credit Default</th>\n",
       "    </tr>\n",
       "  </thead>\n",
       "  <tbody>\n",
       "    <tr>\n",
       "      <th>count</th>\n",
       "      <td>5.943000e+03</td>\n",
       "      <td>7500.000000</td>\n",
       "      <td>7500.000000</td>\n",
       "      <td>7500.000000</td>\n",
       "      <td>7.500000e+03</td>\n",
       "      <td>7500.000000</td>\n",
       "      <td>3419.000000</td>\n",
       "      <td>7486.000000</td>\n",
       "      <td>7.500000e+03</td>\n",
       "      <td>7.500000e+03</td>\n",
       "      <td>7500.000000</td>\n",
       "      <td>5943.000000</td>\n",
       "      <td>7500.000000</td>\n",
       "    </tr>\n",
       "    <tr>\n",
       "      <th>mean</th>\n",
       "      <td>1.366392e+06</td>\n",
       "      <td>0.030133</td>\n",
       "      <td>11.130933</td>\n",
       "      <td>18.317467</td>\n",
       "      <td>9.451537e+05</td>\n",
       "      <td>0.170000</td>\n",
       "      <td>34.692600</td>\n",
       "      <td>0.117152</td>\n",
       "      <td>1.187318e+07</td>\n",
       "      <td>2.898332e+05</td>\n",
       "      <td>18314.454133</td>\n",
       "      <td>1151.087498</td>\n",
       "      <td>0.281733</td>\n",
       "    </tr>\n",
       "    <tr>\n",
       "      <th>std</th>\n",
       "      <td>8.453392e+05</td>\n",
       "      <td>0.271604</td>\n",
       "      <td>4.908924</td>\n",
       "      <td>7.041946</td>\n",
       "      <td>1.602622e+07</td>\n",
       "      <td>0.498598</td>\n",
       "      <td>21.688806</td>\n",
       "      <td>0.347192</td>\n",
       "      <td>3.192612e+07</td>\n",
       "      <td>3.178714e+05</td>\n",
       "      <td>11926.764673</td>\n",
       "      <td>1604.451418</td>\n",
       "      <td>0.449874</td>\n",
       "    </tr>\n",
       "    <tr>\n",
       "      <th>min</th>\n",
       "      <td>1.645970e+05</td>\n",
       "      <td>0.000000</td>\n",
       "      <td>2.000000</td>\n",
       "      <td>4.000000</td>\n",
       "      <td>0.000000e+00</td>\n",
       "      <td>0.000000</td>\n",
       "      <td>0.000000</td>\n",
       "      <td>0.000000</td>\n",
       "      <td>1.124200e+04</td>\n",
       "      <td>0.000000e+00</td>\n",
       "      <td>0.000000</td>\n",
       "      <td>585.000000</td>\n",
       "      <td>0.000000</td>\n",
       "    </tr>\n",
       "    <tr>\n",
       "      <th>25%</th>\n",
       "      <td>8.443410e+05</td>\n",
       "      <td>0.000000</td>\n",
       "      <td>8.000000</td>\n",
       "      <td>13.500000</td>\n",
       "      <td>2.792295e+05</td>\n",
       "      <td>0.000000</td>\n",
       "      <td>16.000000</td>\n",
       "      <td>0.000000</td>\n",
       "      <td>1.801690e+05</td>\n",
       "      <td>1.142565e+05</td>\n",
       "      <td>10067.500000</td>\n",
       "      <td>711.000000</td>\n",
       "      <td>0.000000</td>\n",
       "    </tr>\n",
       "    <tr>\n",
       "      <th>50%</th>\n",
       "      <td>1.168386e+06</td>\n",
       "      <td>0.000000</td>\n",
       "      <td>10.000000</td>\n",
       "      <td>17.000000</td>\n",
       "      <td>4.781590e+05</td>\n",
       "      <td>0.000000</td>\n",
       "      <td>32.000000</td>\n",
       "      <td>0.000000</td>\n",
       "      <td>3.095730e+05</td>\n",
       "      <td>2.093230e+05</td>\n",
       "      <td>16076.500000</td>\n",
       "      <td>731.000000</td>\n",
       "      <td>0.000000</td>\n",
       "    </tr>\n",
       "    <tr>\n",
       "      <th>75%</th>\n",
       "      <td>1.640137e+06</td>\n",
       "      <td>0.000000</td>\n",
       "      <td>14.000000</td>\n",
       "      <td>21.800000</td>\n",
       "      <td>7.935015e+05</td>\n",
       "      <td>0.000000</td>\n",
       "      <td>50.000000</td>\n",
       "      <td>0.000000</td>\n",
       "      <td>5.198820e+05</td>\n",
       "      <td>3.604062e+05</td>\n",
       "      <td>23818.000000</td>\n",
       "      <td>743.000000</td>\n",
       "      <td>1.000000</td>\n",
       "    </tr>\n",
       "    <tr>\n",
       "      <th>max</th>\n",
       "      <td>1.014934e+07</td>\n",
       "      <td>7.000000</td>\n",
       "      <td>43.000000</td>\n",
       "      <td>57.700000</td>\n",
       "      <td>1.304726e+09</td>\n",
       "      <td>7.000000</td>\n",
       "      <td>118.000000</td>\n",
       "      <td>4.000000</td>\n",
       "      <td>1.000000e+08</td>\n",
       "      <td>6.506797e+06</td>\n",
       "      <td>136679.000000</td>\n",
       "      <td>7510.000000</td>\n",
       "      <td>1.000000</td>\n",
       "    </tr>\n",
       "  </tbody>\n",
       "</table>\n",
       "</div>"
      ],
      "text/plain": [
       "       Annual Income    Tax Liens  Number of Open Accounts  \\\n",
       "count   5.943000e+03  7500.000000              7500.000000   \n",
       "mean    1.366392e+06     0.030133                11.130933   \n",
       "std     8.453392e+05     0.271604                 4.908924   \n",
       "min     1.645970e+05     0.000000                 2.000000   \n",
       "25%     8.443410e+05     0.000000                 8.000000   \n",
       "50%     1.168386e+06     0.000000                10.000000   \n",
       "75%     1.640137e+06     0.000000                14.000000   \n",
       "max     1.014934e+07     7.000000                43.000000   \n",
       "\n",
       "       Years of Credit History  Maximum Open Credit  \\\n",
       "count              7500.000000         7.500000e+03   \n",
       "mean                 18.317467         9.451537e+05   \n",
       "std                   7.041946         1.602622e+07   \n",
       "min                   4.000000         0.000000e+00   \n",
       "25%                  13.500000         2.792295e+05   \n",
       "50%                  17.000000         4.781590e+05   \n",
       "75%                  21.800000         7.935015e+05   \n",
       "max                  57.700000         1.304726e+09   \n",
       "\n",
       "       Number of Credit Problems  Months since last delinquent  Bankruptcies  \\\n",
       "count                7500.000000                   3419.000000   7486.000000   \n",
       "mean                    0.170000                     34.692600      0.117152   \n",
       "std                     0.498598                     21.688806      0.347192   \n",
       "min                     0.000000                      0.000000      0.000000   \n",
       "25%                     0.000000                     16.000000      0.000000   \n",
       "50%                     0.000000                     32.000000      0.000000   \n",
       "75%                     0.000000                     50.000000      0.000000   \n",
       "max                     7.000000                    118.000000      4.000000   \n",
       "\n",
       "       Current Loan Amount  Current Credit Balance   Monthly Debt  \\\n",
       "count         7.500000e+03            7.500000e+03    7500.000000   \n",
       "mean          1.187318e+07            2.898332e+05   18314.454133   \n",
       "std           3.192612e+07            3.178714e+05   11926.764673   \n",
       "min           1.124200e+04            0.000000e+00       0.000000   \n",
       "25%           1.801690e+05            1.142565e+05   10067.500000   \n",
       "50%           3.095730e+05            2.093230e+05   16076.500000   \n",
       "75%           5.198820e+05            3.604062e+05   23818.000000   \n",
       "max           1.000000e+08            6.506797e+06  136679.000000   \n",
       "\n",
       "       Credit Score  Credit Default  \n",
       "count   5943.000000     7500.000000  \n",
       "mean    1151.087498        0.281733  \n",
       "std     1604.451418        0.449874  \n",
       "min      585.000000        0.000000  \n",
       "25%      711.000000        0.000000  \n",
       "50%      731.000000        0.000000  \n",
       "75%      743.000000        1.000000  \n",
       "max     7510.000000        1.000000  "
      ]
     },
     "execution_count": 10,
     "metadata": {},
     "output_type": "execute_result"
    }
   ],
   "source": [
    "df_train.describe()"
   ]
  },
  {
   "cell_type": "markdown",
   "id": "411ee4df",
   "metadata": {},
   "source": [
    "В результате предварительного анализа характеристик признаков с учётом их природной сущности, подозрительных значений не выявленно."
   ]
  },
  {
   "cell_type": "markdown",
   "id": "09d2073d",
   "metadata": {},
   "source": [
    "Первичный анализ тестового датасета:"
   ]
  },
  {
   "cell_type": "code",
   "execution_count": 11,
   "id": "8a5aa0a4",
   "metadata": {},
   "outputs": [
    {
     "data": {
      "text/plain": [
       "(2500, 16)"
      ]
     },
     "execution_count": 11,
     "metadata": {},
     "output_type": "execute_result"
    }
   ],
   "source": [
    "df_test.shape"
   ]
  },
  {
   "cell_type": "code",
   "execution_count": 12,
   "id": "b3ff9822",
   "metadata": {},
   "outputs": [
    {
     "data": {
      "text/html": [
       "<div>\n",
       "<style scoped>\n",
       "    .dataframe tbody tr th:only-of-type {\n",
       "        vertical-align: middle;\n",
       "    }\n",
       "\n",
       "    .dataframe tbody tr th {\n",
       "        vertical-align: top;\n",
       "    }\n",
       "\n",
       "    .dataframe thead th {\n",
       "        text-align: right;\n",
       "    }\n",
       "</style>\n",
       "<table border=\"1\" class=\"dataframe\">\n",
       "  <thead>\n",
       "    <tr style=\"text-align: right;\">\n",
       "      <th></th>\n",
       "      <th>Home Ownership</th>\n",
       "      <th>Annual Income</th>\n",
       "      <th>Years in current job</th>\n",
       "      <th>Tax Liens</th>\n",
       "      <th>Number of Open Accounts</th>\n",
       "      <th>Years of Credit History</th>\n",
       "      <th>Maximum Open Credit</th>\n",
       "      <th>Number of Credit Problems</th>\n",
       "      <th>Months since last delinquent</th>\n",
       "      <th>Bankruptcies</th>\n",
       "      <th>Purpose</th>\n",
       "      <th>Term</th>\n",
       "      <th>Current Loan Amount</th>\n",
       "      <th>Current Credit Balance</th>\n",
       "      <th>Monthly Debt</th>\n",
       "      <th>Credit Score</th>\n",
       "    </tr>\n",
       "  </thead>\n",
       "  <tbody>\n",
       "    <tr>\n",
       "      <th>0</th>\n",
       "      <td>Rent</td>\n",
       "      <td>NaN</td>\n",
       "      <td>4 years</td>\n",
       "      <td>0.0</td>\n",
       "      <td>9.0</td>\n",
       "      <td>12.5</td>\n",
       "      <td>220968.0</td>\n",
       "      <td>0.0</td>\n",
       "      <td>70.0</td>\n",
       "      <td>0.0</td>\n",
       "      <td>debt consolidation</td>\n",
       "      <td>Short Term</td>\n",
       "      <td>162470.0</td>\n",
       "      <td>105906.0</td>\n",
       "      <td>6813.0</td>\n",
       "      <td>NaN</td>\n",
       "    </tr>\n",
       "    <tr>\n",
       "      <th>1</th>\n",
       "      <td>Rent</td>\n",
       "      <td>231838.0</td>\n",
       "      <td>1 year</td>\n",
       "      <td>0.0</td>\n",
       "      <td>6.0</td>\n",
       "      <td>32.7</td>\n",
       "      <td>55946.0</td>\n",
       "      <td>0.0</td>\n",
       "      <td>8.0</td>\n",
       "      <td>0.0</td>\n",
       "      <td>educational expenses</td>\n",
       "      <td>Short Term</td>\n",
       "      <td>78298.0</td>\n",
       "      <td>46037.0</td>\n",
       "      <td>2318.0</td>\n",
       "      <td>699.0</td>\n",
       "    </tr>\n",
       "    <tr>\n",
       "      <th>2</th>\n",
       "      <td>Home Mortgage</td>\n",
       "      <td>1152540.0</td>\n",
       "      <td>3 years</td>\n",
       "      <td>0.0</td>\n",
       "      <td>10.0</td>\n",
       "      <td>13.7</td>\n",
       "      <td>204600.0</td>\n",
       "      <td>0.0</td>\n",
       "      <td>NaN</td>\n",
       "      <td>0.0</td>\n",
       "      <td>debt consolidation</td>\n",
       "      <td>Short Term</td>\n",
       "      <td>200178.0</td>\n",
       "      <td>146490.0</td>\n",
       "      <td>18729.0</td>\n",
       "      <td>7260.0</td>\n",
       "    </tr>\n",
       "    <tr>\n",
       "      <th>3</th>\n",
       "      <td>Home Mortgage</td>\n",
       "      <td>1220313.0</td>\n",
       "      <td>10+ years</td>\n",
       "      <td>0.0</td>\n",
       "      <td>16.0</td>\n",
       "      <td>17.0</td>\n",
       "      <td>456302.0</td>\n",
       "      <td>0.0</td>\n",
       "      <td>70.0</td>\n",
       "      <td>0.0</td>\n",
       "      <td>debt consolidation</td>\n",
       "      <td>Short Term</td>\n",
       "      <td>217382.0</td>\n",
       "      <td>213199.0</td>\n",
       "      <td>27559.0</td>\n",
       "      <td>739.0</td>\n",
       "    </tr>\n",
       "    <tr>\n",
       "      <th>4</th>\n",
       "      <td>Home Mortgage</td>\n",
       "      <td>2340952.0</td>\n",
       "      <td>6 years</td>\n",
       "      <td>0.0</td>\n",
       "      <td>11.0</td>\n",
       "      <td>23.6</td>\n",
       "      <td>1207272.0</td>\n",
       "      <td>0.0</td>\n",
       "      <td>NaN</td>\n",
       "      <td>0.0</td>\n",
       "      <td>debt consolidation</td>\n",
       "      <td>Long Term</td>\n",
       "      <td>777634.0</td>\n",
       "      <td>425391.0</td>\n",
       "      <td>42605.0</td>\n",
       "      <td>706.0</td>\n",
       "    </tr>\n",
       "  </tbody>\n",
       "</table>\n",
       "</div>"
      ],
      "text/plain": [
       "  Home Ownership  Annual Income Years in current job  Tax Liens  \\\n",
       "0           Rent            NaN              4 years        0.0   \n",
       "1           Rent       231838.0               1 year        0.0   \n",
       "2  Home Mortgage      1152540.0              3 years        0.0   \n",
       "3  Home Mortgage      1220313.0            10+ years        0.0   \n",
       "4  Home Mortgage      2340952.0              6 years        0.0   \n",
       "\n",
       "   Number of Open Accounts  Years of Credit History  Maximum Open Credit  \\\n",
       "0                      9.0                     12.5             220968.0   \n",
       "1                      6.0                     32.7              55946.0   \n",
       "2                     10.0                     13.7             204600.0   \n",
       "3                     16.0                     17.0             456302.0   \n",
       "4                     11.0                     23.6            1207272.0   \n",
       "\n",
       "   Number of Credit Problems  Months since last delinquent  Bankruptcies  \\\n",
       "0                        0.0                          70.0           0.0   \n",
       "1                        0.0                           8.0           0.0   \n",
       "2                        0.0                           NaN           0.0   \n",
       "3                        0.0                          70.0           0.0   \n",
       "4                        0.0                           NaN           0.0   \n",
       "\n",
       "                Purpose        Term  Current Loan Amount  \\\n",
       "0    debt consolidation  Short Term             162470.0   \n",
       "1  educational expenses  Short Term              78298.0   \n",
       "2    debt consolidation  Short Term             200178.0   \n",
       "3    debt consolidation  Short Term             217382.0   \n",
       "4    debt consolidation   Long Term             777634.0   \n",
       "\n",
       "   Current Credit Balance  Monthly Debt  Credit Score  \n",
       "0                105906.0        6813.0           NaN  \n",
       "1                 46037.0        2318.0         699.0  \n",
       "2                146490.0       18729.0        7260.0  \n",
       "3                213199.0       27559.0         739.0  \n",
       "4                425391.0       42605.0         706.0  "
      ]
     },
     "execution_count": 12,
     "metadata": {},
     "output_type": "execute_result"
    }
   ],
   "source": [
    "df_test.head()"
   ]
  },
  {
   "cell_type": "code",
   "execution_count": 13,
   "id": "8e03b10b",
   "metadata": {},
   "outputs": [
    {
     "name": "stdout",
     "output_type": "stream",
     "text": [
      "<class 'pandas.core.frame.DataFrame'>\n",
      "RangeIndex: 2500 entries, 0 to 2499\n",
      "Data columns (total 16 columns):\n",
      " #   Column                        Non-Null Count  Dtype  \n",
      "---  ------                        --------------  -----  \n",
      " 0   Home Ownership                2500 non-null   object \n",
      " 1   Annual Income                 1987 non-null   float64\n",
      " 2   Years in current job          2414 non-null   object \n",
      " 3   Tax Liens                     2500 non-null   float64\n",
      " 4   Number of Open Accounts       2500 non-null   float64\n",
      " 5   Years of Credit History       2500 non-null   float64\n",
      " 6   Maximum Open Credit           2500 non-null   float64\n",
      " 7   Number of Credit Problems     2500 non-null   float64\n",
      " 8   Months since last delinquent  1142 non-null   float64\n",
      " 9   Bankruptcies                  2497 non-null   float64\n",
      " 10  Purpose                       2500 non-null   object \n",
      " 11  Term                          2500 non-null   object \n",
      " 12  Current Loan Amount           2500 non-null   float64\n",
      " 13  Current Credit Balance        2500 non-null   float64\n",
      " 14  Monthly Debt                  2500 non-null   float64\n",
      " 15  Credit Score                  1987 non-null   float64\n",
      "dtypes: float64(12), object(4)\n",
      "memory usage: 312.6+ KB\n"
     ]
    }
   ],
   "source": [
    "df_test.info()"
   ]
  },
  {
   "cell_type": "markdown",
   "id": "92121e96",
   "metadata": {},
   "source": [
    "Признаки 'Annual Income', 'Years in current job', 'Months since last delinquent', 'Bankruptcies' и 'Credit Score' содержат пропуски."
   ]
  },
  {
   "cell_type": "code",
   "execution_count": 14,
   "id": "4275e1fe",
   "metadata": {},
   "outputs": [
    {
     "data": {
      "text/html": [
       "<div>\n",
       "<style scoped>\n",
       "    .dataframe tbody tr th:only-of-type {\n",
       "        vertical-align: middle;\n",
       "    }\n",
       "\n",
       "    .dataframe tbody tr th {\n",
       "        vertical-align: top;\n",
       "    }\n",
       "\n",
       "    .dataframe thead th {\n",
       "        text-align: right;\n",
       "    }\n",
       "</style>\n",
       "<table border=\"1\" class=\"dataframe\">\n",
       "  <thead>\n",
       "    <tr style=\"text-align: right;\">\n",
       "      <th></th>\n",
       "      <th>Annual Income</th>\n",
       "      <th>Tax Liens</th>\n",
       "      <th>Number of Open Accounts</th>\n",
       "      <th>Years of Credit History</th>\n",
       "      <th>Maximum Open Credit</th>\n",
       "      <th>Number of Credit Problems</th>\n",
       "      <th>Months since last delinquent</th>\n",
       "      <th>Bankruptcies</th>\n",
       "      <th>Current Loan Amount</th>\n",
       "      <th>Current Credit Balance</th>\n",
       "      <th>Monthly Debt</th>\n",
       "      <th>Credit Score</th>\n",
       "    </tr>\n",
       "  </thead>\n",
       "  <tbody>\n",
       "    <tr>\n",
       "      <th>count</th>\n",
       "      <td>1.987000e+03</td>\n",
       "      <td>2500.000000</td>\n",
       "      <td>2500.000000</td>\n",
       "      <td>2500.000000</td>\n",
       "      <td>2.500000e+03</td>\n",
       "      <td>2500.000000</td>\n",
       "      <td>1142.000000</td>\n",
       "      <td>2497.000000</td>\n",
       "      <td>2.500000e+03</td>\n",
       "      <td>2.500000e+03</td>\n",
       "      <td>2500.000000</td>\n",
       "      <td>1987.000000</td>\n",
       "    </tr>\n",
       "    <tr>\n",
       "      <th>mean</th>\n",
       "      <td>1.366922e+06</td>\n",
       "      <td>0.035200</td>\n",
       "      <td>11.184400</td>\n",
       "      <td>18.325920</td>\n",
       "      <td>7.105704e+05</td>\n",
       "      <td>0.162000</td>\n",
       "      <td>34.181261</td>\n",
       "      <td>0.106928</td>\n",
       "      <td>1.215572e+07</td>\n",
       "      <td>2.963966e+05</td>\n",
       "      <td>18271.340000</td>\n",
       "      <td>1234.516860</td>\n",
       "    </tr>\n",
       "    <tr>\n",
       "      <th>std</th>\n",
       "      <td>9.171252e+05</td>\n",
       "      <td>0.386291</td>\n",
       "      <td>4.852774</td>\n",
       "      <td>7.254659</td>\n",
       "      <td>1.511983e+06</td>\n",
       "      <td>0.559894</td>\n",
       "      <td>22.024277</td>\n",
       "      <td>0.357189</td>\n",
       "      <td>3.226097e+07</td>\n",
       "      <td>3.783020e+05</td>\n",
       "      <td>11543.881469</td>\n",
       "      <td>1740.219442</td>\n",
       "    </tr>\n",
       "    <tr>\n",
       "      <th>min</th>\n",
       "      <td>1.065330e+05</td>\n",
       "      <td>0.000000</td>\n",
       "      <td>1.000000</td>\n",
       "      <td>3.900000</td>\n",
       "      <td>0.000000e+00</td>\n",
       "      <td>0.000000</td>\n",
       "      <td>0.000000</td>\n",
       "      <td>0.000000</td>\n",
       "      <td>1.542200e+04</td>\n",
       "      <td>0.000000e+00</td>\n",
       "      <td>93.000000</td>\n",
       "      <td>585.000000</td>\n",
       "    </tr>\n",
       "    <tr>\n",
       "      <th>25%</th>\n",
       "      <td>8.523115e+05</td>\n",
       "      <td>0.000000</td>\n",
       "      <td>8.000000</td>\n",
       "      <td>13.400000</td>\n",
       "      <td>2.785860e+05</td>\n",
       "      <td>0.000000</td>\n",
       "      <td>16.000000</td>\n",
       "      <td>0.000000</td>\n",
       "      <td>1.871265e+05</td>\n",
       "      <td>1.101145e+05</td>\n",
       "      <td>10024.750000</td>\n",
       "      <td>710.000000</td>\n",
       "    </tr>\n",
       "    <tr>\n",
       "      <th>50%</th>\n",
       "      <td>1.178475e+06</td>\n",
       "      <td>0.000000</td>\n",
       "      <td>10.000000</td>\n",
       "      <td>17.000000</td>\n",
       "      <td>4.786760e+05</td>\n",
       "      <td>0.000000</td>\n",
       "      <td>30.000000</td>\n",
       "      <td>0.000000</td>\n",
       "      <td>3.223660e+05</td>\n",
       "      <td>2.073850e+05</td>\n",
       "      <td>16642.500000</td>\n",
       "      <td>731.000000</td>\n",
       "    </tr>\n",
       "    <tr>\n",
       "      <th>75%</th>\n",
       "      <td>1.629734e+06</td>\n",
       "      <td>0.000000</td>\n",
       "      <td>14.000000</td>\n",
       "      <td>22.100000</td>\n",
       "      <td>8.025985e+05</td>\n",
       "      <td>0.000000</td>\n",
       "      <td>50.000000</td>\n",
       "      <td>0.000000</td>\n",
       "      <td>5.225825e+05</td>\n",
       "      <td>3.663485e+05</td>\n",
       "      <td>24146.000000</td>\n",
       "      <td>743.000000</td>\n",
       "    </tr>\n",
       "    <tr>\n",
       "      <th>max</th>\n",
       "      <td>1.497561e+07</td>\n",
       "      <td>15.000000</td>\n",
       "      <td>48.000000</td>\n",
       "      <td>53.400000</td>\n",
       "      <td>5.448439e+07</td>\n",
       "      <td>15.000000</td>\n",
       "      <td>82.000000</td>\n",
       "      <td>5.000000</td>\n",
       "      <td>1.000000e+08</td>\n",
       "      <td>6.030087e+06</td>\n",
       "      <td>93555.000000</td>\n",
       "      <td>7480.000000</td>\n",
       "    </tr>\n",
       "  </tbody>\n",
       "</table>\n",
       "</div>"
      ],
      "text/plain": [
       "       Annual Income    Tax Liens  Number of Open Accounts  \\\n",
       "count   1.987000e+03  2500.000000              2500.000000   \n",
       "mean    1.366922e+06     0.035200                11.184400   \n",
       "std     9.171252e+05     0.386291                 4.852774   \n",
       "min     1.065330e+05     0.000000                 1.000000   \n",
       "25%     8.523115e+05     0.000000                 8.000000   \n",
       "50%     1.178475e+06     0.000000                10.000000   \n",
       "75%     1.629734e+06     0.000000                14.000000   \n",
       "max     1.497561e+07    15.000000                48.000000   \n",
       "\n",
       "       Years of Credit History  Maximum Open Credit  \\\n",
       "count              2500.000000         2.500000e+03   \n",
       "mean                 18.325920         7.105704e+05   \n",
       "std                   7.254659         1.511983e+06   \n",
       "min                   3.900000         0.000000e+00   \n",
       "25%                  13.400000         2.785860e+05   \n",
       "50%                  17.000000         4.786760e+05   \n",
       "75%                  22.100000         8.025985e+05   \n",
       "max                  53.400000         5.448439e+07   \n",
       "\n",
       "       Number of Credit Problems  Months since last delinquent  Bankruptcies  \\\n",
       "count                2500.000000                   1142.000000   2497.000000   \n",
       "mean                    0.162000                     34.181261      0.106928   \n",
       "std                     0.559894                     22.024277      0.357189   \n",
       "min                     0.000000                      0.000000      0.000000   \n",
       "25%                     0.000000                     16.000000      0.000000   \n",
       "50%                     0.000000                     30.000000      0.000000   \n",
       "75%                     0.000000                     50.000000      0.000000   \n",
       "max                    15.000000                     82.000000      5.000000   \n",
       "\n",
       "       Current Loan Amount  Current Credit Balance  Monthly Debt  Credit Score  \n",
       "count         2.500000e+03            2.500000e+03   2500.000000   1987.000000  \n",
       "mean          1.215572e+07            2.963966e+05  18271.340000   1234.516860  \n",
       "std           3.226097e+07            3.783020e+05  11543.881469   1740.219442  \n",
       "min           1.542200e+04            0.000000e+00     93.000000    585.000000  \n",
       "25%           1.871265e+05            1.101145e+05  10024.750000    710.000000  \n",
       "50%           3.223660e+05            2.073850e+05  16642.500000    731.000000  \n",
       "75%           5.225825e+05            3.663485e+05  24146.000000    743.000000  \n",
       "max           1.000000e+08            6.030087e+06  93555.000000   7480.000000  "
      ]
     },
     "execution_count": 14,
     "metadata": {},
     "output_type": "execute_result"
    }
   ],
   "source": [
    "df_test.describe()"
   ]
  },
  {
   "cell_type": "markdown",
   "id": "7ea0cef2",
   "metadata": {},
   "source": [
    "В результате предварительного анализа характеристик признаков с учётом их природной сущности, подозрительных значений не выявленно."
   ]
  },
  {
   "cell_type": "markdown",
   "id": "83c18b5c",
   "metadata": {},
   "source": [
    "### Обзор данных (EDA)"
   ]
  },
  {
   "cell_type": "markdown",
   "id": "fac3082d",
   "metadata": {},
   "source": [
    "Целевая переменная:"
   ]
  },
  {
   "cell_type": "code",
   "execution_count": 15,
   "id": "76cf9b1b",
   "metadata": {},
   "outputs": [
    {
     "data": {
      "text/plain": [
       "0    5387\n",
       "1    2113\n",
       "Name: Credit Default, dtype: int64"
      ]
     },
     "execution_count": 15,
     "metadata": {},
     "output_type": "execute_result"
    }
   ],
   "source": [
    "df_train[\"Credit Default\"].value_counts()"
   ]
  },
  {
   "cell_type": "markdown",
   "id": "84b30f78",
   "metadata": {},
   "source": [
    "Целевая переменная является бинарным признаком."
   ]
  },
  {
   "cell_type": "code",
   "execution_count": 16,
   "id": "3812d8b9",
   "metadata": {},
   "outputs": [
    {
     "data": {
      "image/png": "[encoded data removed]",
      "text/plain": [
       "<Figure size 576x360 with 1 Axes>"
      ]
     },
     "metadata": {
      "needs_background": "light"
     },
     "output_type": "display_data"
    }
   ],
   "source": [
    "plt.figure(figsize=(8, 5))\n",
    "sns.countplot(x=\"Credit Default\", data=df_train)\n",
    "\n",
    "plt.title(\"Target variable distribution\")\n",
    "plt.show()"
   ]
  },
  {
   "cell_type": "code",
   "execution_count": 17,
   "id": "997be383",
   "metadata": {},
   "outputs": [
    {
     "data": {
      "image/png": "[encoded data removed]",
      "text/plain": [
       "<Figure size 720x576 with 1 Axes>"
      ]
     },
     "metadata": {
      "needs_background": "light"
     },
     "output_type": "display_data"
    }
   ],
   "source": [
    "corr_with_target = df_train.corr().iloc[:-1, -1].sort_values(ascending=False)\n",
    "\n",
    "plt.figure(figsize=(10, 8))\n",
    "\n",
    "sns.barplot(x=corr_with_target.values, y=corr_with_target.index)\n",
    "\n",
    "plt.title(\"Correlation with target variable\")\n",
    "plt.show()"
   ]
  },
  {
   "cell_type": "markdown",
   "id": "704bc087",
   "metadata": {},
   "source": [
    "Отбор признаков с заметной связью по шкале Чеддока:"
   ]
  },
  {
   "cell_type": "code",
   "execution_count": 18,
   "id": "491b43ea",
   "metadata": {},
   "outputs": [
    {
     "data": {
      "text/plain": [
       "Credit Score    0.44205\n",
       "Name: Credit Default, dtype: float64"
      ]
     },
     "execution_count": 18,
     "metadata": {},
     "output_type": "execute_result"
    }
   ],
   "source": [
    "corr_with_target[corr_with_target > 0.3]"
   ]
  },
  {
   "cell_type": "markdown",
   "id": "67db1baa",
   "metadata": {},
   "source": [
    " Количественные признаки:"
   ]
  },
  {
   "cell_type": "code",
   "execution_count": 19,
   "id": "4feb28d1",
   "metadata": {},
   "outputs": [
    {
     "data": {
      "text/plain": [
       "['Annual Income',\n",
       " 'Tax Liens',\n",
       " 'Number of Open Accounts',\n",
       " 'Years of Credit History',\n",
       " 'Maximum Open Credit',\n",
       " 'Number of Credit Problems',\n",
       " 'Months since last delinquent',\n",
       " 'Bankruptcies',\n",
       " 'Current Loan Amount',\n",
       " 'Current Credit Balance',\n",
       " 'Monthly Debt',\n",
       " 'Credit Score']"
      ]
     },
     "execution_count": 19,
     "metadata": {},
     "output_type": "execute_result"
    }
   ],
   "source": [
    "feature_num_names = df_train.drop('Credit Default', axis=1).select_dtypes(include=['float64', 'int64']).\\\n",
    "        columns.tolist()\n",
    "feature_num_names"
   ]
  },
  {
   "cell_type": "code",
   "execution_count": 20,
   "id": "8ec67186",
   "metadata": {},
   "outputs": [
    {
     "data": {
      "image/png": "[encoded data removed]",
      "text/plain": [
       "<Figure size 1008x1008 with 12 Axes>"
      ]
     },
     "metadata": {
      "needs_background": "light"
     },
     "output_type": "display_data"
    }
   ],
   "source": [
    "df_train[feature_num_names].hist(figsize=(14,14), bins=20, grid=True);"
   ]
  },
  {
   "cell_type": "markdown",
   "id": "04f461b8",
   "metadata": {},
   "source": [
    "Категориальные признаки:"
   ]
  },
  {
   "cell_type": "code",
   "execution_count": 21,
   "id": "0205e21a",
   "metadata": {},
   "outputs": [
    {
     "data": {
      "text/plain": [
       "['Home Ownership', 'Years in current job', 'Purpose', 'Term']"
      ]
     },
     "execution_count": 21,
     "metadata": {},
     "output_type": "execute_result"
    }
   ],
   "source": [
    "feature_cat_names = df_train.select_dtypes(include='object').columns.tolist()\n",
    "feature_cat_names"
   ]
  },
  {
   "cell_type": "code",
   "execution_count": 22,
   "id": "76401977",
   "metadata": {},
   "outputs": [
    {
     "data": {
      "text/plain": [
       "Home Mortgage    3637\n",
       "Rent             3204\n",
       "Own Home          647\n",
       "Have Mortgage      12\n",
       "Name: Home Ownership, dtype: int64"
      ]
     },
     "execution_count": 22,
     "metadata": {},
     "output_type": "execute_result"
    }
   ],
   "source": [
    "df_train['Home Ownership'].value_counts()"
   ]
  },
  {
   "cell_type": "code",
   "execution_count": 23,
   "id": "308bbdce",
   "metadata": {},
   "outputs": [
    {
     "data": {
      "text/plain": [
       "Home Mortgage    1225\n",
       "Rent             1020\n",
       "Own Home          248\n",
       "Have Mortgage       7\n",
       "Name: Home Ownership, dtype: int64"
      ]
     },
     "execution_count": 23,
     "metadata": {},
     "output_type": "execute_result"
    }
   ],
   "source": [
    "df_test['Home Ownership'].value_counts()"
   ]
  },
  {
   "cell_type": "code",
   "execution_count": 24,
   "id": "cd9c8474",
   "metadata": {},
   "outputs": [
    {
     "data": {
      "text/plain": [
       "10+ years    2332\n",
       "2 years       705\n",
       "3 years       620\n",
       "< 1 year      563\n",
       "5 years       516\n",
       "1 year        504\n",
       "4 years       469\n",
       "6 years       426\n",
       "7 years       396\n",
       "8 years       339\n",
       "9 years       259\n",
       "Name: Years in current job, dtype: int64"
      ]
     },
     "execution_count": 24,
     "metadata": {},
     "output_type": "execute_result"
    }
   ],
   "source": [
    "df_train['Years in current job'].value_counts()"
   ]
  },
  {
   "cell_type": "code",
   "execution_count": 25,
   "id": "239f9cb1",
   "metadata": {},
   "outputs": [
    {
     "data": {
      "text/plain": [
       "10+ years    810\n",
       "3 years      228\n",
       "2 years      212\n",
       "< 1 year     207\n",
       "5 years      169\n",
       "1 year       153\n",
       "4 years      152\n",
       "7 years      140\n",
       "6 years      137\n",
       "8 years      107\n",
       "9 years       99\n",
       "Name: Years in current job, dtype: int64"
      ]
     },
     "execution_count": 25,
     "metadata": {},
     "output_type": "execute_result"
    }
   ],
   "source": [
    "df_test['Years in current job'].value_counts()"
   ]
  },
  {
   "cell_type": "code",
   "execution_count": 26,
   "id": "6f8ffa50",
   "metadata": {},
   "outputs": [
    {
     "data": {
      "text/plain": [
       "debt consolidation      5944\n",
       "other                    665\n",
       "home improvements        412\n",
       "business loan            129\n",
       "buy a car                 96\n",
       "medical bills             71\n",
       "major purchase            40\n",
       "take a trip               37\n",
       "buy house                 34\n",
       "small business            26\n",
       "wedding                   15\n",
       "moving                    11\n",
       "educational expenses      10\n",
       "vacation                   8\n",
       "renewable energy           2\n",
       "Name: Purpose, dtype: int64"
      ]
     },
     "execution_count": 26,
     "metadata": {},
     "output_type": "execute_result"
    }
   ],
   "source": [
    "df_train['Purpose'].value_counts()"
   ]
  },
  {
   "cell_type": "code",
   "execution_count": 27,
   "id": "1a93133c",
   "metadata": {},
   "outputs": [
    {
     "data": {
      "text/plain": [
       "debt consolidation      1973\n",
       "other                    240\n",
       "home improvements        140\n",
       "buy a car                 34\n",
       "business loan             30\n",
       "medical bills             27\n",
       "buy house                 19\n",
       "take a trip               14\n",
       "major purchase             9\n",
       "small business             5\n",
       "educational expenses       3\n",
       "vacation                   3\n",
       "wedding                    2\n",
       "moving                     1\n",
       "Name: Purpose, dtype: int64"
      ]
     },
     "execution_count": 27,
     "metadata": {},
     "output_type": "execute_result"
    }
   ],
   "source": [
    "df_test['Purpose'].value_counts()"
   ]
  },
  {
   "cell_type": "code",
   "execution_count": 28,
   "id": "4a654976",
   "metadata": {},
   "outputs": [
    {
     "data": {
      "text/plain": [
       "Short Term    5556\n",
       "Long Term     1944\n",
       "Name: Term, dtype: int64"
      ]
     },
     "execution_count": 28,
     "metadata": {},
     "output_type": "execute_result"
    }
   ],
   "source": [
    "df_train['Term'].value_counts()"
   ]
  },
  {
   "cell_type": "code",
   "execution_count": 29,
   "id": "ef06f320",
   "metadata": {},
   "outputs": [
    {
     "data": {
      "text/plain": [
       "Short Term    1861\n",
       "Long Term      639\n",
       "Name: Term, dtype: int64"
      ]
     },
     "execution_count": 29,
     "metadata": {},
     "output_type": "execute_result"
    }
   ],
   "source": [
    "df_test['Term'].value_counts()"
   ]
  },
  {
   "cell_type": "markdown",
   "id": "f2aab075",
   "metadata": {},
   "source": [
    "Признак 'Term' является бинарным."
   ]
  },
  {
   "cell_type": "markdown",
   "id": "b41fdf17",
   "metadata": {},
   "source": [
    "Категориальные признаки в тестовом датасете не принимают значений, отличных от тренировочного датасета."
   ]
  },
  {
   "cell_type": "markdown",
   "id": "429f4d92",
   "metadata": {},
   "source": [
    "### Обработка пропусков"
   ]
  },
  {
   "cell_type": "markdown",
   "id": "060f1b97",
   "metadata": {},
   "source": [
    "Решение о выборе метода обработки пропусков делается на основе анализа природной сущности признаков."
   ]
  },
  {
   "cell_type": "markdown",
   "id": "742245c3",
   "metadata": {},
   "source": [
    "Абсолютное количество пропусков:"
   ]
  },
  {
   "cell_type": "code",
   "execution_count": 30,
   "id": "97d66dd6",
   "metadata": {},
   "outputs": [
    {
     "data": {
      "text/plain": [
       "Home Ownership                     0\n",
       "Annual Income                   1557\n",
       "Years in current job             371\n",
       "Tax Liens                          0\n",
       "Number of Open Accounts            0\n",
       "Years of Credit History            0\n",
       "Maximum Open Credit                0\n",
       "Number of Credit Problems          0\n",
       "Months since last delinquent    4081\n",
       "Bankruptcies                      14\n",
       "Purpose                            0\n",
       "Term                               0\n",
       "Current Loan Amount                0\n",
       "Current Credit Balance             0\n",
       "Monthly Debt                       0\n",
       "Credit Score                    1557\n",
       "Credit Default                     0\n",
       "dtype: int64"
      ]
     },
     "execution_count": 30,
     "metadata": {},
     "output_type": "execute_result"
    }
   ],
   "source": [
    "df_train.isna().sum()"
   ]
  },
  {
   "cell_type": "markdown",
   "id": "4be96d28",
   "metadata": {},
   "source": [
    "Процентное количество пропусков:"
   ]
  },
  {
   "cell_type": "code",
   "execution_count": 31,
   "id": "f1de2394",
   "metadata": {},
   "outputs": [
    {
     "data": {
      "text/plain": [
       "Home Ownership                   0.00\n",
       "Annual Income                   20.76\n",
       "Years in current job             4.95\n",
       "Tax Liens                        0.00\n",
       "Number of Open Accounts          0.00\n",
       "Years of Credit History          0.00\n",
       "Maximum Open Credit              0.00\n",
       "Number of Credit Problems        0.00\n",
       "Months since last delinquent    54.41\n",
       "Bankruptcies                     0.19\n",
       "Purpose                          0.00\n",
       "Term                             0.00\n",
       "Current Loan Amount              0.00\n",
       "Current Credit Balance           0.00\n",
       "Monthly Debt                     0.00\n",
       "Credit Score                    20.76\n",
       "Credit Default                   0.00\n",
       "dtype: float64"
      ]
     },
     "execution_count": 31,
     "metadata": {},
     "output_type": "execute_result"
    }
   ],
   "source": [
    "round(df_train.isna().mean() * 100, 2)"
   ]
  },
  {
   "cell_type": "markdown",
   "id": "177a1022",
   "metadata": {},
   "source": [
    "Рассматриваемые признаки: 'Annual Income', 'Years in current job', 'Months since last delinquent', 'Bankruptcies', 'Credit Score'."
   ]
  },
  {
   "cell_type": "markdown",
   "id": "0a02d63e",
   "metadata": {},
   "source": [
    "#### Обработка пропусков признака 'Annual Income'"
   ]
  },
  {
   "cell_type": "markdown",
   "id": "d9d00939",
   "metadata": {},
   "source": [
    "Вариант 1. Замена пропущенных значений признака медианой:"
   ]
  },
  {
   "cell_type": "code",
   "execution_count": 32,
   "id": "1400cd13",
   "metadata": {},
   "outputs": [],
   "source": [
    "df_train['Annual Income'].fillna(df_train['Annual Income'].median(), inplace=True)\n",
    "df_test['Annual Income'].fillna(df_train['Annual Income'].median(), inplace=True)"
   ]
  },
  {
   "cell_type": "markdown",
   "id": "699e28e8",
   "metadata": {},
   "source": [
    "#### Обработка пропусков признака 'Years in current job'"
   ]
  },
  {
   "cell_type": "markdown",
   "id": "0b1036fb",
   "metadata": {},
   "source": [
    "Вариант 2. Замена пропущенных значений признака модой:"
   ]
  },
  {
   "cell_type": "code",
   "execution_count": 33,
   "id": "96f7b718",
   "metadata": {},
   "outputs": [],
   "source": [
    "df_train['Years in current job'].fillna(df_train['Years in current job'].mode()[0], inplace=True)\n",
    "df_test['Years in current job'].fillna(df_train['Years in current job'].mode()[0], inplace=True)"
   ]
  },
  {
   "cell_type": "markdown",
   "id": "c17671bd",
   "metadata": {},
   "source": [
    "#### Обработка пропусков признака 'Months since last delinquent'"
   ]
  },
  {
   "cell_type": "markdown",
   "id": "a003dba4",
   "metadata": {},
   "source": [
    "Вариант 3. Замена пропущенных значений признака медианой:"
   ]
  },
  {
   "cell_type": "code",
   "execution_count": 34,
   "id": "4a3bb1b8",
   "metadata": {},
   "outputs": [],
   "source": [
    "df_train['Months since last delinquent'].fillna(df_train['Months since last delinquent'].median(), inplace=True)\n",
    "df_test['Months since last delinquent'].fillna(df_train['Months since last delinquent'].median(), inplace=True)"
   ]
  },
  {
   "cell_type": "markdown",
   "id": "eb16d359",
   "metadata": {},
   "source": [
    "#### Обработка пропусков признака 'Bankruptcies'"
   ]
  },
  {
   "cell_type": "markdown",
   "id": "f5539623",
   "metadata": {},
   "source": [
    "Вариант 4. Замена пропущенных значений признака медианой:"
   ]
  },
  {
   "cell_type": "code",
   "execution_count": 35,
   "id": "2df3dce3",
   "metadata": {},
   "outputs": [],
   "source": [
    "df_train['Bankruptcies'].fillna(df_train['Bankruptcies'].median(), inplace=True)\n",
    "df_test['Bankruptcies'].fillna(df_train['Bankruptcies'].median(), inplace=True)"
   ]
  },
  {
   "cell_type": "markdown",
   "id": "850c4dfb",
   "metadata": {},
   "source": [
    "#### Обработка пропусков признака 'Credit Score'"
   ]
  },
  {
   "cell_type": "markdown",
   "id": "b705d54d",
   "metadata": {},
   "source": [
    "Вариант 5. Замена пропущенных значений признака медианой:"
   ]
  },
  {
   "cell_type": "code",
   "execution_count": 36,
   "id": "45beb674",
   "metadata": {},
   "outputs": [],
   "source": [
    "df_train['Credit Score'].fillna(df_train['Credit Score'].median(), inplace=True)\n",
    "df_test['Credit Score'].fillna(df_train['Credit Score'].median(), inplace=True)"
   ]
  },
  {
   "cell_type": "code",
   "execution_count": 37,
   "id": "f5b82bb0",
   "metadata": {},
   "outputs": [
    {
     "data": {
      "text/plain": [
       "Home Ownership                  0\n",
       "Annual Income                   0\n",
       "Years in current job            0\n",
       "Tax Liens                       0\n",
       "Number of Open Accounts         0\n",
       "Years of Credit History         0\n",
       "Maximum Open Credit             0\n",
       "Number of Credit Problems       0\n",
       "Months since last delinquent    0\n",
       "Bankruptcies                    0\n",
       "Purpose                         0\n",
       "Term                            0\n",
       "Current Loan Amount             0\n",
       "Current Credit Balance          0\n",
       "Monthly Debt                    0\n",
       "Credit Score                    0\n",
       "Credit Default                  0\n",
       "dtype: int64"
      ]
     },
     "execution_count": 37,
     "metadata": {},
     "output_type": "execute_result"
    }
   ],
   "source": [
    "df_train.isna().sum()"
   ]
  },
  {
   "cell_type": "code",
   "execution_count": 38,
   "id": "87a69a64",
   "metadata": {},
   "outputs": [
    {
     "data": {
      "text/plain": [
       "Home Ownership                  0\n",
       "Annual Income                   0\n",
       "Years in current job            0\n",
       "Tax Liens                       0\n",
       "Number of Open Accounts         0\n",
       "Years of Credit History         0\n",
       "Maximum Open Credit             0\n",
       "Number of Credit Problems       0\n",
       "Months since last delinquent    0\n",
       "Bankruptcies                    0\n",
       "Purpose                         0\n",
       "Term                            0\n",
       "Current Loan Amount             0\n",
       "Current Credit Balance          0\n",
       "Monthly Debt                    0\n",
       "Credit Score                    0\n",
       "dtype: int64"
      ]
     },
     "execution_count": 38,
     "metadata": {},
     "output_type": "execute_result"
    }
   ],
   "source": [
    "df_test.isna().sum()"
   ]
  },
  {
   "cell_type": "markdown",
   "id": "f1beb0da",
   "metadata": {},
   "source": [
    "### Обработка категориальных признаков"
   ]
  },
  {
   "cell_type": "markdown",
   "id": "6cd5689c",
   "metadata": {},
   "source": [
    "Рассматриваемые признаки: 'Home Ownership', 'Years in current job', 'Purpose', 'Term'."
   ]
  },
  {
   "cell_type": "markdown",
   "id": "8c625382",
   "metadata": {},
   "source": [
    "#### Создание вспомогательных датафреймов"
   ]
  },
  {
   "cell_type": "markdown",
   "id": "bb49192c",
   "metadata": {},
   "source": [
    "Создание оригинальных датафреймов категориальных признаков:"
   ]
  },
  {
   "cell_type": "code",
   "execution_count": 39,
   "id": "aef5edb5",
   "metadata": {},
   "outputs": [],
   "source": [
    "df_train_cat_features = df_train[feature_cat_names].copy()\n",
    "df_test_cat_features = df_test[feature_cat_names].copy()"
   ]
  },
  {
   "cell_type": "markdown",
   "id": "5d7433ea",
   "metadata": {},
   "source": [
    "Создание датафреймов категориальных признаков, преобразованных методом One-Hot Encoding:"
   ]
  },
  {
   "cell_type": "code",
   "execution_count": 40,
   "id": "d828813c",
   "metadata": {},
   "outputs": [],
   "source": [
    "df_train_cat_features_OHE = pd.DataFrame()\n",
    "df_test_cat_features_OHE = pd.DataFrame()"
   ]
  },
  {
   "cell_type": "code",
   "execution_count": 41,
   "id": "5a81fcc4",
   "metadata": {},
   "outputs": [
    {
     "name": "stdout",
     "output_type": "stream",
     "text": [
      "<class 'pandas.core.frame.DataFrame'>\n",
      "Index: 0 entries\n",
      "Empty DataFrame"
     ]
    }
   ],
   "source": [
    "df_train_cat_features_OHE.info()"
   ]
  },
  {
   "cell_type": "code",
   "execution_count": 42,
   "id": "1ae37fe1",
   "metadata": {},
   "outputs": [
    {
     "name": "stdout",
     "output_type": "stream",
     "text": [
      "<class 'pandas.core.frame.DataFrame'>\n",
      "Index: 0 entries\n",
      "Empty DataFrame"
     ]
    }
   ],
   "source": [
    "df_test_cat_features_OHE.info()"
   ]
  },
  {
   "cell_type": "markdown",
   "id": "38f2a0d0",
   "metadata": {},
   "source": [
    "#### Обработка признака 'Home Ownership'"
   ]
  },
  {
   "cell_type": "markdown",
   "id": "fa2828be",
   "metadata": {},
   "source": [
    "Вариант 6. Преобразование категориальных значений признака в количественные бинарные методом One-Hot Encoding:"
   ]
  },
  {
   "cell_type": "code",
   "execution_count": 43,
   "id": "e2e071d8",
   "metadata": {},
   "outputs": [
    {
     "data": {
      "text/html": [
       "<div>\n",
       "<style scoped>\n",
       "    .dataframe tbody tr th:only-of-type {\n",
       "        vertical-align: middle;\n",
       "    }\n",
       "\n",
       "    .dataframe tbody tr th {\n",
       "        vertical-align: top;\n",
       "    }\n",
       "\n",
       "    .dataframe thead th {\n",
       "        text-align: right;\n",
       "    }\n",
       "</style>\n",
       "<table border=\"1\" class=\"dataframe\">\n",
       "  <thead>\n",
       "    <tr style=\"text-align: right;\">\n",
       "      <th></th>\n",
       "      <th>Have Mortgage</th>\n",
       "      <th>Home Mortgage</th>\n",
       "      <th>Own Home</th>\n",
       "      <th>Rent</th>\n",
       "    </tr>\n",
       "  </thead>\n",
       "  <tbody>\n",
       "    <tr>\n",
       "      <th>0</th>\n",
       "      <td>0</td>\n",
       "      <td>0</td>\n",
       "      <td>1</td>\n",
       "      <td>0</td>\n",
       "    </tr>\n",
       "    <tr>\n",
       "      <th>1</th>\n",
       "      <td>0</td>\n",
       "      <td>0</td>\n",
       "      <td>1</td>\n",
       "      <td>0</td>\n",
       "    </tr>\n",
       "    <tr>\n",
       "      <th>2</th>\n",
       "      <td>0</td>\n",
       "      <td>1</td>\n",
       "      <td>0</td>\n",
       "      <td>0</td>\n",
       "    </tr>\n",
       "    <tr>\n",
       "      <th>3</th>\n",
       "      <td>0</td>\n",
       "      <td>0</td>\n",
       "      <td>1</td>\n",
       "      <td>0</td>\n",
       "    </tr>\n",
       "    <tr>\n",
       "      <th>4</th>\n",
       "      <td>0</td>\n",
       "      <td>0</td>\n",
       "      <td>0</td>\n",
       "      <td>1</td>\n",
       "    </tr>\n",
       "    <tr>\n",
       "      <th>...</th>\n",
       "      <td>...</td>\n",
       "      <td>...</td>\n",
       "      <td>...</td>\n",
       "      <td>...</td>\n",
       "    </tr>\n",
       "    <tr>\n",
       "      <th>7495</th>\n",
       "      <td>0</td>\n",
       "      <td>0</td>\n",
       "      <td>0</td>\n",
       "      <td>1</td>\n",
       "    </tr>\n",
       "    <tr>\n",
       "      <th>7496</th>\n",
       "      <td>0</td>\n",
       "      <td>1</td>\n",
       "      <td>0</td>\n",
       "      <td>0</td>\n",
       "    </tr>\n",
       "    <tr>\n",
       "      <th>7497</th>\n",
       "      <td>0</td>\n",
       "      <td>0</td>\n",
       "      <td>0</td>\n",
       "      <td>1</td>\n",
       "    </tr>\n",
       "    <tr>\n",
       "      <th>7498</th>\n",
       "      <td>0</td>\n",
       "      <td>1</td>\n",
       "      <td>0</td>\n",
       "      <td>0</td>\n",
       "    </tr>\n",
       "    <tr>\n",
       "      <th>7499</th>\n",
       "      <td>0</td>\n",
       "      <td>0</td>\n",
       "      <td>0</td>\n",
       "      <td>1</td>\n",
       "    </tr>\n",
       "  </tbody>\n",
       "</table>\n",
       "<p>7500 rows × 4 columns</p>\n",
       "</div>"
      ],
      "text/plain": [
       "      Have Mortgage  Home Mortgage  Own Home  Rent\n",
       "0                 0              0         1     0\n",
       "1                 0              0         1     0\n",
       "2                 0              1         0     0\n",
       "3                 0              0         1     0\n",
       "4                 0              0         0     1\n",
       "...             ...            ...       ...   ...\n",
       "7495              0              0         0     1\n",
       "7496              0              1         0     0\n",
       "7497              0              0         0     1\n",
       "7498              0              1         0     0\n",
       "7499              0              0         0     1\n",
       "\n",
       "[7500 rows x 4 columns]"
      ]
     },
     "execution_count": 43,
     "metadata": {},
     "output_type": "execute_result"
    }
   ],
   "source": [
    "pd.get_dummies(df_train['Home Ownership'])"
   ]
  },
  {
   "cell_type": "code",
   "execution_count": 44,
   "id": "b558dd76",
   "metadata": {},
   "outputs": [],
   "source": [
    "df_train_cat_features_OHE = pd.concat([df_train_cat_features_OHE, pd.get_dummies(df_train['Home Ownership'])], axis=1)\n",
    "df_test_cat_features_OHE = pd.concat([df_test_cat_features_OHE, pd.get_dummies(df_test['Home Ownership'])], axis=1)"
   ]
  },
  {
   "cell_type": "markdown",
   "id": "1101e0e8",
   "metadata": {},
   "source": [
    "#### Обработка признака 'Years in current job'"
   ]
  },
  {
   "cell_type": "markdown",
   "id": "ee032431",
   "metadata": {},
   "source": [
    "Вариант 7. Преобразование категориальных значений признака в количественные бинарные методом One-Hot Encoding:"
   ]
  },
  {
   "cell_type": "code",
   "execution_count": 45,
   "id": "e42e1328",
   "metadata": {},
   "outputs": [
    {
     "data": {
      "text/html": [
       "<div>\n",
       "<style scoped>\n",
       "    .dataframe tbody tr th:only-of-type {\n",
       "        vertical-align: middle;\n",
       "    }\n",
       "\n",
       "    .dataframe tbody tr th {\n",
       "        vertical-align: top;\n",
       "    }\n",
       "\n",
       "    .dataframe thead th {\n",
       "        text-align: right;\n",
       "    }\n",
       "</style>\n",
       "<table border=\"1\" class=\"dataframe\">\n",
       "  <thead>\n",
       "    <tr style=\"text-align: right;\">\n",
       "      <th></th>\n",
       "      <th>1 year</th>\n",
       "      <th>10+ years</th>\n",
       "      <th>2 years</th>\n",
       "      <th>3 years</th>\n",
       "      <th>4 years</th>\n",
       "      <th>5 years</th>\n",
       "      <th>6 years</th>\n",
       "      <th>7 years</th>\n",
       "      <th>8 years</th>\n",
       "      <th>9 years</th>\n",
       "      <th>&lt; 1 year</th>\n",
       "    </tr>\n",
       "  </thead>\n",
       "  <tbody>\n",
       "    <tr>\n",
       "      <th>0</th>\n",
       "      <td>0</td>\n",
       "      <td>1</td>\n",
       "      <td>0</td>\n",
       "      <td>0</td>\n",
       "      <td>0</td>\n",
       "      <td>0</td>\n",
       "      <td>0</td>\n",
       "      <td>0</td>\n",
       "      <td>0</td>\n",
       "      <td>0</td>\n",
       "      <td>0</td>\n",
       "    </tr>\n",
       "    <tr>\n",
       "      <th>1</th>\n",
       "      <td>0</td>\n",
       "      <td>1</td>\n",
       "      <td>0</td>\n",
       "      <td>0</td>\n",
       "      <td>0</td>\n",
       "      <td>0</td>\n",
       "      <td>0</td>\n",
       "      <td>0</td>\n",
       "      <td>0</td>\n",
       "      <td>0</td>\n",
       "      <td>0</td>\n",
       "    </tr>\n",
       "    <tr>\n",
       "      <th>2</th>\n",
       "      <td>0</td>\n",
       "      <td>0</td>\n",
       "      <td>0</td>\n",
       "      <td>0</td>\n",
       "      <td>0</td>\n",
       "      <td>0</td>\n",
       "      <td>0</td>\n",
       "      <td>0</td>\n",
       "      <td>1</td>\n",
       "      <td>0</td>\n",
       "      <td>0</td>\n",
       "    </tr>\n",
       "    <tr>\n",
       "      <th>3</th>\n",
       "      <td>0</td>\n",
       "      <td>0</td>\n",
       "      <td>0</td>\n",
       "      <td>0</td>\n",
       "      <td>0</td>\n",
       "      <td>0</td>\n",
       "      <td>1</td>\n",
       "      <td>0</td>\n",
       "      <td>0</td>\n",
       "      <td>0</td>\n",
       "      <td>0</td>\n",
       "    </tr>\n",
       "    <tr>\n",
       "      <th>4</th>\n",
       "      <td>0</td>\n",
       "      <td>0</td>\n",
       "      <td>0</td>\n",
       "      <td>0</td>\n",
       "      <td>0</td>\n",
       "      <td>0</td>\n",
       "      <td>0</td>\n",
       "      <td>0</td>\n",
       "      <td>1</td>\n",
       "      <td>0</td>\n",
       "      <td>0</td>\n",
       "    </tr>\n",
       "    <tr>\n",
       "      <th>...</th>\n",
       "      <td>...</td>\n",
       "      <td>...</td>\n",
       "      <td>...</td>\n",
       "      <td>...</td>\n",
       "      <td>...</td>\n",
       "      <td>...</td>\n",
       "      <td>...</td>\n",
       "      <td>...</td>\n",
       "      <td>...</td>\n",
       "      <td>...</td>\n",
       "      <td>...</td>\n",
       "    </tr>\n",
       "    <tr>\n",
       "      <th>7495</th>\n",
       "      <td>0</td>\n",
       "      <td>0</td>\n",
       "      <td>0</td>\n",
       "      <td>0</td>\n",
       "      <td>0</td>\n",
       "      <td>0</td>\n",
       "      <td>0</td>\n",
       "      <td>0</td>\n",
       "      <td>0</td>\n",
       "      <td>0</td>\n",
       "      <td>1</td>\n",
       "    </tr>\n",
       "    <tr>\n",
       "      <th>7496</th>\n",
       "      <td>1</td>\n",
       "      <td>0</td>\n",
       "      <td>0</td>\n",
       "      <td>0</td>\n",
       "      <td>0</td>\n",
       "      <td>0</td>\n",
       "      <td>0</td>\n",
       "      <td>0</td>\n",
       "      <td>0</td>\n",
       "      <td>0</td>\n",
       "      <td>0</td>\n",
       "    </tr>\n",
       "    <tr>\n",
       "      <th>7497</th>\n",
       "      <td>0</td>\n",
       "      <td>0</td>\n",
       "      <td>0</td>\n",
       "      <td>0</td>\n",
       "      <td>0</td>\n",
       "      <td>0</td>\n",
       "      <td>1</td>\n",
       "      <td>0</td>\n",
       "      <td>0</td>\n",
       "      <td>0</td>\n",
       "      <td>0</td>\n",
       "    </tr>\n",
       "    <tr>\n",
       "      <th>7498</th>\n",
       "      <td>0</td>\n",
       "      <td>1</td>\n",
       "      <td>0</td>\n",
       "      <td>0</td>\n",
       "      <td>0</td>\n",
       "      <td>0</td>\n",
       "      <td>0</td>\n",
       "      <td>0</td>\n",
       "      <td>0</td>\n",
       "      <td>0</td>\n",
       "      <td>0</td>\n",
       "    </tr>\n",
       "    <tr>\n",
       "      <th>7499</th>\n",
       "      <td>0</td>\n",
       "      <td>0</td>\n",
       "      <td>0</td>\n",
       "      <td>0</td>\n",
       "      <td>1</td>\n",
       "      <td>0</td>\n",
       "      <td>0</td>\n",
       "      <td>0</td>\n",
       "      <td>0</td>\n",
       "      <td>0</td>\n",
       "      <td>0</td>\n",
       "    </tr>\n",
       "  </tbody>\n",
       "</table>\n",
       "<p>7500 rows × 11 columns</p>\n",
       "</div>"
      ],
      "text/plain": [
       "      1 year  10+ years  2 years  3 years  4 years  5 years  6 years  7 years  \\\n",
       "0          0          1        0        0        0        0        0        0   \n",
       "1          0          1        0        0        0        0        0        0   \n",
       "2          0          0        0        0        0        0        0        0   \n",
       "3          0          0        0        0        0        0        1        0   \n",
       "4          0          0        0        0        0        0        0        0   \n",
       "...      ...        ...      ...      ...      ...      ...      ...      ...   \n",
       "7495       0          0        0        0        0        0        0        0   \n",
       "7496       1          0        0        0        0        0        0        0   \n",
       "7497       0          0        0        0        0        0        1        0   \n",
       "7498       0          1        0        0        0        0        0        0   \n",
       "7499       0          0        0        0        1        0        0        0   \n",
       "\n",
       "      8 years  9 years  < 1 year  \n",
       "0           0        0         0  \n",
       "1           0        0         0  \n",
       "2           1        0         0  \n",
       "3           0        0         0  \n",
       "4           1        0         0  \n",
       "...       ...      ...       ...  \n",
       "7495        0        0         1  \n",
       "7496        0        0         0  \n",
       "7497        0        0         0  \n",
       "7498        0        0         0  \n",
       "7499        0        0         0  \n",
       "\n",
       "[7500 rows x 11 columns]"
      ]
     },
     "execution_count": 45,
     "metadata": {},
     "output_type": "execute_result"
    }
   ],
   "source": [
    "pd.get_dummies(df_train['Years in current job'])"
   ]
  },
  {
   "cell_type": "code",
   "execution_count": 46,
   "id": "46057e9d",
   "metadata": {},
   "outputs": [],
   "source": [
    "df_train_cat_features_OHE = pd.concat([df_train_cat_features_OHE, pd.get_dummies(df_train['Years in current job'])], axis=1)\n",
    "df_test_cat_features_OHE = pd.concat([df_test_cat_features_OHE, pd.get_dummies(df_test['Years in current job'])], axis=1)"
   ]
  },
  {
   "cell_type": "markdown",
   "id": "3e4a6ed0",
   "metadata": {},
   "source": [
    "#### Обработка признака 'Purpose'"
   ]
  },
  {
   "cell_type": "markdown",
   "id": "a1d0d0c0",
   "metadata": {},
   "source": [
    "Вариант 8. Преобразование категориальных значений признака в количественные бинарные методом One-Hot Encoding:"
   ]
  },
  {
   "cell_type": "code",
   "execution_count": 47,
   "id": "4da33ad5",
   "metadata": {},
   "outputs": [
    {
     "data": {
      "text/html": [
       "<div>\n",
       "<style scoped>\n",
       "    .dataframe tbody tr th:only-of-type {\n",
       "        vertical-align: middle;\n",
       "    }\n",
       "\n",
       "    .dataframe tbody tr th {\n",
       "        vertical-align: top;\n",
       "    }\n",
       "\n",
       "    .dataframe thead th {\n",
       "        text-align: right;\n",
       "    }\n",
       "</style>\n",
       "<table border=\"1\" class=\"dataframe\">\n",
       "  <thead>\n",
       "    <tr style=\"text-align: right;\">\n",
       "      <th></th>\n",
       "      <th>business loan</th>\n",
       "      <th>buy a car</th>\n",
       "      <th>buy house</th>\n",
       "      <th>debt consolidation</th>\n",
       "      <th>educational expenses</th>\n",
       "      <th>home improvements</th>\n",
       "      <th>major purchase</th>\n",
       "      <th>medical bills</th>\n",
       "      <th>moving</th>\n",
       "      <th>other</th>\n",
       "      <th>renewable energy</th>\n",
       "      <th>small business</th>\n",
       "      <th>take a trip</th>\n",
       "      <th>vacation</th>\n",
       "      <th>wedding</th>\n",
       "    </tr>\n",
       "  </thead>\n",
       "  <tbody>\n",
       "    <tr>\n",
       "      <th>0</th>\n",
       "      <td>0</td>\n",
       "      <td>0</td>\n",
       "      <td>0</td>\n",
       "      <td>1</td>\n",
       "      <td>0</td>\n",
       "      <td>0</td>\n",
       "      <td>0</td>\n",
       "      <td>0</td>\n",
       "      <td>0</td>\n",
       "      <td>0</td>\n",
       "      <td>0</td>\n",
       "      <td>0</td>\n",
       "      <td>0</td>\n",
       "      <td>0</td>\n",
       "      <td>0</td>\n",
       "    </tr>\n",
       "    <tr>\n",
       "      <th>1</th>\n",
       "      <td>0</td>\n",
       "      <td>0</td>\n",
       "      <td>0</td>\n",
       "      <td>1</td>\n",
       "      <td>0</td>\n",
       "      <td>0</td>\n",
       "      <td>0</td>\n",
       "      <td>0</td>\n",
       "      <td>0</td>\n",
       "      <td>0</td>\n",
       "      <td>0</td>\n",
       "      <td>0</td>\n",
       "      <td>0</td>\n",
       "      <td>0</td>\n",
       "      <td>0</td>\n",
       "    </tr>\n",
       "    <tr>\n",
       "      <th>2</th>\n",
       "      <td>0</td>\n",
       "      <td>0</td>\n",
       "      <td>0</td>\n",
       "      <td>1</td>\n",
       "      <td>0</td>\n",
       "      <td>0</td>\n",
       "      <td>0</td>\n",
       "      <td>0</td>\n",
       "      <td>0</td>\n",
       "      <td>0</td>\n",
       "      <td>0</td>\n",
       "      <td>0</td>\n",
       "      <td>0</td>\n",
       "      <td>0</td>\n",
       "      <td>0</td>\n",
       "    </tr>\n",
       "    <tr>\n",
       "      <th>3</th>\n",
       "      <td>0</td>\n",
       "      <td>0</td>\n",
       "      <td>0</td>\n",
       "      <td>1</td>\n",
       "      <td>0</td>\n",
       "      <td>0</td>\n",
       "      <td>0</td>\n",
       "      <td>0</td>\n",
       "      <td>0</td>\n",
       "      <td>0</td>\n",
       "      <td>0</td>\n",
       "      <td>0</td>\n",
       "      <td>0</td>\n",
       "      <td>0</td>\n",
       "      <td>0</td>\n",
       "    </tr>\n",
       "    <tr>\n",
       "      <th>4</th>\n",
       "      <td>0</td>\n",
       "      <td>0</td>\n",
       "      <td>0</td>\n",
       "      <td>1</td>\n",
       "      <td>0</td>\n",
       "      <td>0</td>\n",
       "      <td>0</td>\n",
       "      <td>0</td>\n",
       "      <td>0</td>\n",
       "      <td>0</td>\n",
       "      <td>0</td>\n",
       "      <td>0</td>\n",
       "      <td>0</td>\n",
       "      <td>0</td>\n",
       "      <td>0</td>\n",
       "    </tr>\n",
       "    <tr>\n",
       "      <th>...</th>\n",
       "      <td>...</td>\n",
       "      <td>...</td>\n",
       "      <td>...</td>\n",
       "      <td>...</td>\n",
       "      <td>...</td>\n",
       "      <td>...</td>\n",
       "      <td>...</td>\n",
       "      <td>...</td>\n",
       "      <td>...</td>\n",
       "      <td>...</td>\n",
       "      <td>...</td>\n",
       "      <td>...</td>\n",
       "      <td>...</td>\n",
       "      <td>...</td>\n",
       "      <td>...</td>\n",
       "    </tr>\n",
       "    <tr>\n",
       "      <th>7495</th>\n",
       "      <td>0</td>\n",
       "      <td>0</td>\n",
       "      <td>0</td>\n",
       "      <td>0</td>\n",
       "      <td>0</td>\n",
       "      <td>0</td>\n",
       "      <td>0</td>\n",
       "      <td>0</td>\n",
       "      <td>0</td>\n",
       "      <td>1</td>\n",
       "      <td>0</td>\n",
       "      <td>0</td>\n",
       "      <td>0</td>\n",
       "      <td>0</td>\n",
       "      <td>0</td>\n",
       "    </tr>\n",
       "    <tr>\n",
       "      <th>7496</th>\n",
       "      <td>0</td>\n",
       "      <td>0</td>\n",
       "      <td>0</td>\n",
       "      <td>1</td>\n",
       "      <td>0</td>\n",
       "      <td>0</td>\n",
       "      <td>0</td>\n",
       "      <td>0</td>\n",
       "      <td>0</td>\n",
       "      <td>0</td>\n",
       "      <td>0</td>\n",
       "      <td>0</td>\n",
       "      <td>0</td>\n",
       "      <td>0</td>\n",
       "      <td>0</td>\n",
       "    </tr>\n",
       "    <tr>\n",
       "      <th>7497</th>\n",
       "      <td>0</td>\n",
       "      <td>1</td>\n",
       "      <td>0</td>\n",
       "      <td>0</td>\n",
       "      <td>0</td>\n",
       "      <td>0</td>\n",
       "      <td>0</td>\n",
       "      <td>0</td>\n",
       "      <td>0</td>\n",
       "      <td>0</td>\n",
       "      <td>0</td>\n",
       "      <td>0</td>\n",
       "      <td>0</td>\n",
       "      <td>0</td>\n",
       "      <td>0</td>\n",
       "    </tr>\n",
       "    <tr>\n",
       "      <th>7498</th>\n",
       "      <td>0</td>\n",
       "      <td>0</td>\n",
       "      <td>0</td>\n",
       "      <td>1</td>\n",
       "      <td>0</td>\n",
       "      <td>0</td>\n",
       "      <td>0</td>\n",
       "      <td>0</td>\n",
       "      <td>0</td>\n",
       "      <td>0</td>\n",
       "      <td>0</td>\n",
       "      <td>0</td>\n",
       "      <td>0</td>\n",
       "      <td>0</td>\n",
       "      <td>0</td>\n",
       "    </tr>\n",
       "    <tr>\n",
       "      <th>7499</th>\n",
       "      <td>0</td>\n",
       "      <td>0</td>\n",
       "      <td>0</td>\n",
       "      <td>1</td>\n",
       "      <td>0</td>\n",
       "      <td>0</td>\n",
       "      <td>0</td>\n",
       "      <td>0</td>\n",
       "      <td>0</td>\n",
       "      <td>0</td>\n",
       "      <td>0</td>\n",
       "      <td>0</td>\n",
       "      <td>0</td>\n",
       "      <td>0</td>\n",
       "      <td>0</td>\n",
       "    </tr>\n",
       "  </tbody>\n",
       "</table>\n",
       "<p>7500 rows × 15 columns</p>\n",
       "</div>"
      ],
      "text/plain": [
       "      business loan  buy a car  buy house  debt consolidation  \\\n",
       "0                 0          0          0                   1   \n",
       "1                 0          0          0                   1   \n",
       "2                 0          0          0                   1   \n",
       "3                 0          0          0                   1   \n",
       "4                 0          0          0                   1   \n",
       "...             ...        ...        ...                 ...   \n",
       "7495              0          0          0                   0   \n",
       "7496              0          0          0                   1   \n",
       "7497              0          1          0                   0   \n",
       "7498              0          0          0                   1   \n",
       "7499              0          0          0                   1   \n",
       "\n",
       "      educational expenses  home improvements  major purchase  medical bills  \\\n",
       "0                        0                  0               0              0   \n",
       "1                        0                  0               0              0   \n",
       "2                        0                  0               0              0   \n",
       "3                        0                  0               0              0   \n",
       "4                        0                  0               0              0   \n",
       "...                    ...                ...             ...            ...   \n",
       "7495                     0                  0               0              0   \n",
       "7496                     0                  0               0              0   \n",
       "7497                     0                  0               0              0   \n",
       "7498                     0                  0               0              0   \n",
       "7499                     0                  0               0              0   \n",
       "\n",
       "      moving  other  renewable energy  small business  take a trip  vacation  \\\n",
       "0          0      0                 0               0            0         0   \n",
       "1          0      0                 0               0            0         0   \n",
       "2          0      0                 0               0            0         0   \n",
       "3          0      0                 0               0            0         0   \n",
       "4          0      0                 0               0            0         0   \n",
       "...      ...    ...               ...             ...          ...       ...   \n",
       "7495       0      1                 0               0            0         0   \n",
       "7496       0      0                 0               0            0         0   \n",
       "7497       0      0                 0               0            0         0   \n",
       "7498       0      0                 0               0            0         0   \n",
       "7499       0      0                 0               0            0         0   \n",
       "\n",
       "      wedding  \n",
       "0           0  \n",
       "1           0  \n",
       "2           0  \n",
       "3           0  \n",
       "4           0  \n",
       "...       ...  \n",
       "7495        0  \n",
       "7496        0  \n",
       "7497        0  \n",
       "7498        0  \n",
       "7499        0  \n",
       "\n",
       "[7500 rows x 15 columns]"
      ]
     },
     "execution_count": 47,
     "metadata": {},
     "output_type": "execute_result"
    }
   ],
   "source": [
    "pd.get_dummies(df_train['Purpose'])"
   ]
  },
  {
   "cell_type": "code",
   "execution_count": 48,
   "id": "f56ce241",
   "metadata": {},
   "outputs": [],
   "source": [
    "df_train_cat_features_OHE = pd.concat([df_train_cat_features_OHE, pd.get_dummies(df_train['Purpose'])], axis=1)\n",
    "df_test_cat_features_OHE = pd.concat([df_test_cat_features_OHE, pd.get_dummies(df_test['Purpose'])], axis=1)"
   ]
  },
  {
   "cell_type": "markdown",
   "id": "a81109b6",
   "metadata": {},
   "source": [
    "#### Обработка признака 'Term'"
   ]
  },
  {
   "cell_type": "markdown",
   "id": "3911a1da",
   "metadata": {},
   "source": [
    "Вариант 9. Преобразование категориальных значений признака в количественные бинарные методом Label Encoding:"
   ]
  },
  {
   "cell_type": "code",
   "execution_count": 49,
   "id": "38951c80",
   "metadata": {},
   "outputs": [],
   "source": [
    "df_train['Term'] = df_train['Term'].replace({'Short Term':0, 'Long Term':1})\n",
    "df_test['Term'] = df_test['Term'].replace({'Short Term':0, 'Long Term':1})"
   ]
  },
  {
   "cell_type": "code",
   "execution_count": 50,
   "id": "40b9fa16",
   "metadata": {},
   "outputs": [],
   "source": [
    "df_train_cat_features.drop('Term', axis=1, inplace=True)\n",
    "df_test_cat_features.drop('Term', axis=1, inplace=True)"
   ]
  },
  {
   "cell_type": "code",
   "execution_count": 51,
   "id": "91ec0ceb",
   "metadata": {},
   "outputs": [
    {
     "name": "stdout",
     "output_type": "stream",
     "text": [
      "<class 'pandas.core.frame.DataFrame'>\n",
      "RangeIndex: 7500 entries, 0 to 7499\n",
      "Data columns (total 30 columns):\n",
      " #   Column                Non-Null Count  Dtype\n",
      "---  ------                --------------  -----\n",
      " 0   Have Mortgage         7500 non-null   uint8\n",
      " 1   Home Mortgage         7500 non-null   uint8\n",
      " 2   Own Home              7500 non-null   uint8\n",
      " 3   Rent                  7500 non-null   uint8\n",
      " 4   1 year                7500 non-null   uint8\n",
      " 5   10+ years             7500 non-null   uint8\n",
      " 6   2 years               7500 non-null   uint8\n",
      " 7   3 years               7500 non-null   uint8\n",
      " 8   4 years               7500 non-null   uint8\n",
      " 9   5 years               7500 non-null   uint8\n",
      " 10  6 years               7500 non-null   uint8\n",
      " 11  7 years               7500 non-null   uint8\n",
      " 12  8 years               7500 non-null   uint8\n",
      " 13  9 years               7500 non-null   uint8\n",
      " 14  < 1 year              7500 non-null   uint8\n",
      " 15  business loan         7500 non-null   uint8\n",
      " 16  buy a car             7500 non-null   uint8\n",
      " 17  buy house             7500 non-null   uint8\n",
      " 18  debt consolidation    7500 non-null   uint8\n",
      " 19  educational expenses  7500 non-null   uint8\n",
      " 20  home improvements     7500 non-null   uint8\n",
      " 21  major purchase        7500 non-null   uint8\n",
      " 22  medical bills         7500 non-null   uint8\n",
      " 23  moving                7500 non-null   uint8\n",
      " 24  other                 7500 non-null   uint8\n",
      " 25  renewable energy      7500 non-null   uint8\n",
      " 26  small business        7500 non-null   uint8\n",
      " 27  take a trip           7500 non-null   uint8\n",
      " 28  vacation              7500 non-null   uint8\n",
      " 29  wedding               7500 non-null   uint8\n",
      "dtypes: uint8(30)\n",
      "memory usage: 219.9 KB\n"
     ]
    }
   ],
   "source": [
    "df_train_cat_features_OHE.info()"
   ]
  },
  {
   "cell_type": "code",
   "execution_count": 52,
   "id": "f263d903",
   "metadata": {},
   "outputs": [
    {
     "name": "stdout",
     "output_type": "stream",
     "text": [
      "<class 'pandas.core.frame.DataFrame'>\n",
      "RangeIndex: 2500 entries, 0 to 2499\n",
      "Data columns (total 29 columns):\n",
      " #   Column                Non-Null Count  Dtype\n",
      "---  ------                --------------  -----\n",
      " 0   Have Mortgage         2500 non-null   uint8\n",
      " 1   Home Mortgage         2500 non-null   uint8\n",
      " 2   Own Home              2500 non-null   uint8\n",
      " 3   Rent                  2500 non-null   uint8\n",
      " 4   1 year                2500 non-null   uint8\n",
      " 5   10+ years             2500 non-null   uint8\n",
      " 6   2 years               2500 non-null   uint8\n",
      " 7   3 years               2500 non-null   uint8\n",
      " 8   4 years               2500 non-null   uint8\n",
      " 9   5 years               2500 non-null   uint8\n",
      " 10  6 years               2500 non-null   uint8\n",
      " 11  7 years               2500 non-null   uint8\n",
      " 12  8 years               2500 non-null   uint8\n",
      " 13  9 years               2500 non-null   uint8\n",
      " 14  < 1 year              2500 non-null   uint8\n",
      " 15  business loan         2500 non-null   uint8\n",
      " 16  buy a car             2500 non-null   uint8\n",
      " 17  buy house             2500 non-null   uint8\n",
      " 18  debt consolidation    2500 non-null   uint8\n",
      " 19  educational expenses  2500 non-null   uint8\n",
      " 20  home improvements     2500 non-null   uint8\n",
      " 21  major purchase        2500 non-null   uint8\n",
      " 22  medical bills         2500 non-null   uint8\n",
      " 23  moving                2500 non-null   uint8\n",
      " 24  other                 2500 non-null   uint8\n",
      " 25  small business        2500 non-null   uint8\n",
      " 26  take a trip           2500 non-null   uint8\n",
      " 27  vacation              2500 non-null   uint8\n",
      " 28  wedding               2500 non-null   uint8\n",
      "dtypes: uint8(29)\n",
      "memory usage: 70.9 KB\n"
     ]
    }
   ],
   "source": [
    "df_test_cat_features_OHE.info()"
   ]
  },
  {
   "cell_type": "code",
   "execution_count": 53,
   "id": "60ca2901",
   "metadata": {},
   "outputs": [
    {
     "name": "stdout",
     "output_type": "stream",
     "text": [
      "<class 'pandas.core.frame.DataFrame'>\n",
      "RangeIndex: 7500 entries, 0 to 7499\n",
      "Data columns (total 17 columns):\n",
      " #   Column                        Non-Null Count  Dtype  \n",
      "---  ------                        --------------  -----  \n",
      " 0   Home Ownership                7500 non-null   object \n",
      " 1   Annual Income                 7500 non-null   float64\n",
      " 2   Years in current job          7500 non-null   object \n",
      " 3   Tax Liens                     7500 non-null   float64\n",
      " 4   Number of Open Accounts       7500 non-null   float64\n",
      " 5   Years of Credit History       7500 non-null   float64\n",
      " 6   Maximum Open Credit           7500 non-null   float64\n",
      " 7   Number of Credit Problems     7500 non-null   float64\n",
      " 8   Months since last delinquent  7500 non-null   float64\n",
      " 9   Bankruptcies                  7500 non-null   float64\n",
      " 10  Purpose                       7500 non-null   object \n",
      " 11  Term                          7500 non-null   int64  \n",
      " 12  Current Loan Amount           7500 non-null   float64\n",
      " 13  Current Credit Balance        7500 non-null   float64\n",
      " 14  Monthly Debt                  7500 non-null   float64\n",
      " 15  Credit Score                  7500 non-null   float64\n",
      " 16  Credit Default                7500 non-null   int64  \n",
      "dtypes: float64(12), int64(2), object(3)\n",
      "memory usage: 996.2+ KB\n"
     ]
    }
   ],
   "source": [
    "df_train.info()"
   ]
  },
  {
   "cell_type": "code",
   "execution_count": 54,
   "id": "338ff7f1",
   "metadata": {},
   "outputs": [
    {
     "name": "stdout",
     "output_type": "stream",
     "text": [
      "<class 'pandas.core.frame.DataFrame'>\n",
      "RangeIndex: 2500 entries, 0 to 2499\n",
      "Data columns (total 16 columns):\n",
      " #   Column                        Non-Null Count  Dtype  \n",
      "---  ------                        --------------  -----  \n",
      " 0   Home Ownership                2500 non-null   object \n",
      " 1   Annual Income                 2500 non-null   float64\n",
      " 2   Years in current job          2500 non-null   object \n",
      " 3   Tax Liens                     2500 non-null   float64\n",
      " 4   Number of Open Accounts       2500 non-null   float64\n",
      " 5   Years of Credit History       2500 non-null   float64\n",
      " 6   Maximum Open Credit           2500 non-null   float64\n",
      " 7   Number of Credit Problems     2500 non-null   float64\n",
      " 8   Months since last delinquent  2500 non-null   float64\n",
      " 9   Bankruptcies                  2500 non-null   float64\n",
      " 10  Purpose                       2500 non-null   object \n",
      " 11  Term                          2500 non-null   int64  \n",
      " 12  Current Loan Amount           2500 non-null   float64\n",
      " 13  Current Credit Balance        2500 non-null   float64\n",
      " 14  Monthly Debt                  2500 non-null   float64\n",
      " 15  Credit Score                  2500 non-null   float64\n",
      "dtypes: float64(12), int64(1), object(3)\n",
      "memory usage: 312.6+ KB\n"
     ]
    }
   ],
   "source": [
    "df_test.info()"
   ]
  },
  {
   "cell_type": "markdown",
   "id": "2413ccd0",
   "metadata": {},
   "source": [
    "### Выделение целевой переменной и групп признаков"
   ]
  },
  {
   "cell_type": "markdown",
   "id": "3a59a6f6",
   "metadata": {},
   "source": [
    "Целевая переменная:"
   ]
  },
  {
   "cell_type": "code",
   "execution_count": 55,
   "id": "f456f241",
   "metadata": {},
   "outputs": [],
   "source": [
    "target_name = 'Credit Default'"
   ]
  },
  {
   "cell_type": "markdown",
   "id": "eb2f1754",
   "metadata": {},
   "source": [
    "Количественные признаки с заполненными пропусками:"
   ]
  },
  {
   "cell_type": "code",
   "execution_count": 56,
   "id": "c56d57e2",
   "metadata": {},
   "outputs": [
    {
     "data": {
      "text/plain": [
       "['Annual Income',\n",
       " 'Tax Liens',\n",
       " 'Number of Open Accounts',\n",
       " 'Years of Credit History',\n",
       " 'Maximum Open Credit',\n",
       " 'Number of Credit Problems',\n",
       " 'Months since last delinquent',\n",
       " 'Bankruptcies',\n",
       " 'Term',\n",
       " 'Current Loan Amount',\n",
       " 'Current Credit Balance',\n",
       " 'Monthly Debt',\n",
       " 'Credit Score']"
      ]
     },
     "execution_count": 56,
     "metadata": {},
     "output_type": "execute_result"
    }
   ],
   "source": [
    "feature_num_names = df_train.drop('Credit Default', axis=1).select_dtypes(include=['float64', 'int64', 'uint8']).\\\n",
    "        columns.tolist()\n",
    "feature_num_names"
   ]
  },
  {
   "cell_type": "markdown",
   "id": "ee827d28",
   "metadata": {},
   "source": [
    "Оригинальные категориальные признаки:"
   ]
  },
  {
   "cell_type": "code",
   "execution_count": 57,
   "id": "33f906cc",
   "metadata": {},
   "outputs": [
    {
     "data": {
      "text/plain": [
       "['Home Ownership', 'Years in current job', 'Purpose']"
      ]
     },
     "execution_count": 57,
     "metadata": {},
     "output_type": "execute_result"
    }
   ],
   "source": [
    "feature_cat_names = df_train.select_dtypes(include='object').columns.tolist()\n",
    "feature_cat_names"
   ]
  },
  {
   "cell_type": "markdown",
   "id": "14f64fcf",
   "metadata": {},
   "source": [
    "Категориальные признаки, преобразованные методом One-Hot Encoding:"
   ]
  },
  {
   "cell_type": "code",
   "execution_count": 58,
   "id": "ec14dffd",
   "metadata": {},
   "outputs": [
    {
     "data": {
      "text/plain": [
       "['Have Mortgage',\n",
       " 'Home Mortgage',\n",
       " 'Own Home',\n",
       " 'Rent',\n",
       " '1 year',\n",
       " '10+ years',\n",
       " '2 years',\n",
       " '3 years',\n",
       " '4 years',\n",
       " '5 years',\n",
       " '6 years',\n",
       " '7 years',\n",
       " '8 years',\n",
       " '9 years',\n",
       " '< 1 year',\n",
       " 'business loan',\n",
       " 'buy a car',\n",
       " 'buy house',\n",
       " 'debt consolidation',\n",
       " 'educational expenses',\n",
       " 'home improvements',\n",
       " 'major purchase',\n",
       " 'medical bills',\n",
       " 'moving',\n",
       " 'other',\n",
       " 'renewable energy',\n",
       " 'small business',\n",
       " 'take a trip',\n",
       " 'vacation',\n",
       " 'wedding']"
      ]
     },
     "execution_count": 58,
     "metadata": {},
     "output_type": "execute_result"
    }
   ],
   "source": [
    "feature_cat_names_OHE = df_train_cat_features_OHE.columns.tolist()\n",
    "feature_cat_names_OHE"
   ]
  },
  {
   "cell_type": "markdown",
   "id": "a7ece2cc",
   "metadata": {},
   "source": [
    "Датафрейм 1. Количественные признаки с заполненными пропусками + оригинальные категориальные признаки:"
   ]
  },
  {
   "cell_type": "code",
   "execution_count": 59,
   "id": "026715a5",
   "metadata": {},
   "outputs": [
    {
     "data": {
      "text/plain": [
       "['Annual Income',\n",
       " 'Tax Liens',\n",
       " 'Number of Open Accounts',\n",
       " 'Years of Credit History',\n",
       " 'Maximum Open Credit',\n",
       " 'Number of Credit Problems',\n",
       " 'Months since last delinquent',\n",
       " 'Bankruptcies',\n",
       " 'Term',\n",
       " 'Current Loan Amount',\n",
       " 'Current Credit Balance',\n",
       " 'Monthly Debt',\n",
       " 'Credit Score',\n",
       " 'Home Ownership',\n",
       " 'Years in current job',\n",
       " 'Purpose']"
      ]
     },
     "execution_count": 59,
     "metadata": {},
     "output_type": "execute_result"
    }
   ],
   "source": [
    "df_train_1 = pd.concat([df_train[feature_num_names], df_train_cat_features], axis=1)\n",
    "df_test_1 = pd.concat([df_test[feature_num_names], df_test_cat_features], axis=1)\n",
    "feature_names_1 = feature_num_names + feature_cat_names\n",
    "feature_names_1"
   ]
  },
  {
   "cell_type": "markdown",
   "id": "4ecd84ad",
   "metadata": {},
   "source": [
    "Датафрейм 2. Количественные признаки с заполненными пропусками + категориальные признаки, преобразованные методом One-Hot Encoding::"
   ]
  },
  {
   "cell_type": "code",
   "execution_count": 60,
   "id": "65eff49f",
   "metadata": {},
   "outputs": [
    {
     "data": {
      "text/plain": [
       "['Annual Income',\n",
       " 'Tax Liens',\n",
       " 'Number of Open Accounts',\n",
       " 'Years of Credit History',\n",
       " 'Maximum Open Credit',\n",
       " 'Number of Credit Problems',\n",
       " 'Months since last delinquent',\n",
       " 'Bankruptcies',\n",
       " 'Term',\n",
       " 'Current Loan Amount',\n",
       " 'Current Credit Balance',\n",
       " 'Monthly Debt',\n",
       " 'Credit Score',\n",
       " 'Have Mortgage',\n",
       " 'Home Mortgage',\n",
       " 'Own Home',\n",
       " 'Rent',\n",
       " '1 year',\n",
       " '10+ years',\n",
       " '2 years',\n",
       " '3 years',\n",
       " '4 years',\n",
       " '5 years',\n",
       " '6 years',\n",
       " '7 years',\n",
       " '8 years',\n",
       " '9 years',\n",
       " '< 1 year',\n",
       " 'business loan',\n",
       " 'buy a car',\n",
       " 'buy house',\n",
       " 'debt consolidation',\n",
       " 'educational expenses',\n",
       " 'home improvements',\n",
       " 'major purchase',\n",
       " 'medical bills',\n",
       " 'moving',\n",
       " 'other',\n",
       " 'renewable energy',\n",
       " 'small business',\n",
       " 'take a trip',\n",
       " 'vacation',\n",
       " 'wedding']"
      ]
     },
     "execution_count": 60,
     "metadata": {},
     "output_type": "execute_result"
    }
   ],
   "source": [
    "df_train_2 = pd.concat([df_train[feature_num_names], df_train_cat_features_OHE], axis=1)\n",
    "df_test_2 = pd.concat([df_test[feature_num_names], df_test_cat_features_OHE], axis=1)\n",
    "feature_names_2 = feature_num_names + feature_cat_names_OHE\n",
    "feature_names_2"
   ]
  },
  {
   "cell_type": "markdown",
   "id": "e173d5ae",
   "metadata": {},
   "source": [
    "### Разбиение на обучающие и тестовые выборки"
   ]
  },
  {
   "cell_type": "code",
   "execution_count": 61,
   "id": "29c7e25e",
   "metadata": {},
   "outputs": [],
   "source": [
    "X1 = df_train_1[feature_names_1]\n",
    "y1 = df_train[target_name]\n",
    "\n",
    "X1_train, X1_val, y1_train, y1_val = train_test_split(X1, y1, shuffle=True, test_size=0.2, random_state=13)"
   ]
  },
  {
   "cell_type": "code",
   "execution_count": 62,
   "id": "78ef72da",
   "metadata": {},
   "outputs": [],
   "source": [
    "X2 = df_train_2[feature_names_2]\n",
    "y2 = df_train[target_name]\n",
    "\n",
    "X2_train, X2_val, y2_train, y2_val = train_test_split(X2, y2, shuffle=True, test_size=0.2, random_state=13)"
   ]
  },
  {
   "cell_type": "markdown",
   "id": "c3440045",
   "metadata": {},
   "source": [
    "### Построение и оценка базовых моделей"
   ]
  },
  {
   "cell_type": "markdown",
   "id": "38880271",
   "metadata": {},
   "source": [
    "#### Модель логистической регрессии"
   ]
  },
  {
   "cell_type": "code",
   "execution_count": 63,
   "id": "81da2374",
   "metadata": {},
   "outputs": [
    {
     "name": "stdout",
     "output_type": "stream",
     "text": [
      "TRAIN\n",
      "\n",
      "              precision    recall  f1-score   support\n",
      "\n",
      "           0       0.75      0.98      0.85      4281\n",
      "           1       0.82      0.20      0.32      1719\n",
      "\n",
      "    accuracy                           0.76      6000\n",
      "   macro avg       0.79      0.59      0.59      6000\n",
      "weighted avg       0.77      0.76      0.70      6000\n",
      "\n",
      "TEST\n",
      "\n",
      "              precision    recall  f1-score   support\n",
      "\n",
      "           0       0.78      0.99      0.87      1106\n",
      "           1       0.85      0.23      0.36       394\n",
      "\n",
      "    accuracy                           0.79      1500\n",
      "   macro avg       0.81      0.61      0.61      1500\n",
      "weighted avg       0.80      0.79      0.74      1500\n",
      "\n",
      "CONFUSION MATRIX\n",
      "\n",
      "col_0              0   1\n",
      "Credit Default          \n",
      "0               1090  16\n",
      "1                305  89\n"
     ]
    }
   ],
   "source": [
    "model_lr = LogisticRegression()\n",
    "model_lr.fit(X2_train[feature_names_2], y2_train)\n",
    "\n",
    "y_train_pred = model_lr.predict(X2_train[feature_names_2])\n",
    "y_test_pred = model_lr.predict(X2_val[feature_names_2])\n",
    "\n",
    "get_classification_report(y2_train, y_train_pred, y2_val, y_test_pred)"
   ]
  },
  {
   "cell_type": "markdown",
   "id": "3839bee0",
   "metadata": {},
   "source": [
    "#### Модель k ближайших соседей"
   ]
  },
  {
   "cell_type": "code",
   "execution_count": 64,
   "id": "98d1bd43",
   "metadata": {},
   "outputs": [
    {
     "name": "stdout",
     "output_type": "stream",
     "text": [
      "TRAIN\n",
      "\n",
      "              precision    recall  f1-score   support\n",
      "\n",
      "           0       0.80      0.91      0.85      4281\n",
      "           1       0.66      0.45      0.53      1719\n",
      "\n",
      "    accuracy                           0.78      6000\n",
      "   macro avg       0.73      0.68      0.69      6000\n",
      "weighted avg       0.76      0.78      0.76      6000\n",
      "\n",
      "TEST\n",
      "\n",
      "              precision    recall  f1-score   support\n",
      "\n",
      "           0       0.77      0.86      0.81      1106\n",
      "           1       0.41      0.27      0.33       394\n",
      "\n",
      "    accuracy                           0.70      1500\n",
      "   macro avg       0.59      0.57      0.57      1500\n",
      "weighted avg       0.67      0.70      0.68      1500\n",
      "\n",
      "CONFUSION MATRIX\n",
      "\n",
      "col_0             0    1\n",
      "Credit Default          \n",
      "0               948  158\n",
      "1               286  108\n"
     ]
    }
   ],
   "source": [
    "model_knn = KNeighborsClassifier()\n",
    "model_knn.fit(X2_train[feature_names_2], y2_train)\n",
    "\n",
    "y_train_pred = model_knn.predict(X2_train[feature_names_2])\n",
    "y_test_pred = model_knn.predict(X2_val[feature_names_2])\n",
    "\n",
    "get_classification_report(y2_train, y_train_pred, y2_val, y_test_pred)"
   ]
  },
  {
   "cell_type": "markdown",
   "id": "fb54c646",
   "metadata": {},
   "source": [
    "#### Модель XGBoost"
   ]
  },
  {
   "cell_type": "code",
   "execution_count": 65,
   "id": "37bf1f48",
   "metadata": {},
   "outputs": [
    {
     "name": "stderr",
     "output_type": "stream",
     "text": [
      "/Users/alexander/opt/anaconda3/lib/python3.8/site-packages/pandas/core/frame.py:4441: SettingWithCopyWarning: \n",
      "A value is trying to be set on a copy of a slice from a DataFrame\n",
      "\n",
      "See the caveats in the documentation: https://pandas.pydata.org/pandas-docs/stable/user_guide/indexing.html#returning-a-view-versus-a-copy\n",
      "  return super().rename(\n"
     ]
    }
   ],
   "source": [
    "X2_train.rename(columns = {'< 1 year' : 'less 1 year',}, inplace = True)\n",
    "X2_val.rename(columns = {'< 1 year' : 'less 1 year',}, inplace = True)\n",
    "feature_names_2[feature_names_2.index('< 1 year')] = 'less 1 year'"
   ]
  },
  {
   "cell_type": "code",
   "execution_count": 66,
   "id": "4631289f",
   "metadata": {},
   "outputs": [
    {
     "name": "stdout",
     "output_type": "stream",
     "text": [
      "[01:18:03] WARNING: /opt/concourse/worker/volumes/live/7a2b9f41-3287-451b-6691-43e9a6c0910f/volume/xgboost-split_1619728204606/work/src/learner.cc:1061: Starting in XGBoost 1.3.0, the default evaluation metric used with the objective 'binary:logistic' was changed from 'error' to 'logloss'. Explicitly set eval_metric if you'd like to restore the old behavior.\n"
     ]
    },
    {
     "name": "stderr",
     "output_type": "stream",
     "text": [
      "/Users/alexander/opt/anaconda3/lib/python3.8/site-packages/xgboost/sklearn.py:888: UserWarning: The use of label encoder in XGBClassifier is deprecated and will be removed in a future release. To remove this warning, do the following: 1) Pass option use_label_encoder=False when constructing XGBClassifier object; and 2) Encode your labels (y) as integers starting with 0, i.e. 0, 1, 2, ..., [num_class - 1].\n",
      "  warnings.warn(label_encoder_deprecation_msg, UserWarning)\n"
     ]
    },
    {
     "name": "stdout",
     "output_type": "stream",
     "text": [
      "TRAIN\n",
      "\n",
      "              precision    recall  f1-score   support\n",
      "\n",
      "           0       0.95      1.00      0.97      4281\n",
      "           1       0.99      0.86      0.92      1719\n",
      "\n",
      "    accuracy                           0.96      6000\n",
      "   macro avg       0.97      0.93      0.95      6000\n",
      "weighted avg       0.96      0.96      0.96      6000\n",
      "\n",
      "TEST\n",
      "\n",
      "              precision    recall  f1-score   support\n",
      "\n",
      "           0       0.80      0.92      0.86      1106\n",
      "           1       0.62      0.36      0.45       394\n",
      "\n",
      "    accuracy                           0.77      1500\n",
      "   macro avg       0.71      0.64      0.66      1500\n",
      "weighted avg       0.75      0.77      0.75      1500\n",
      "\n",
      "CONFUSION MATRIX\n",
      "\n",
      "col_0              0    1\n",
      "Credit Default           \n",
      "0               1020   86\n",
      "1                253  141\n"
     ]
    }
   ],
   "source": [
    "model_xgb = xgb.XGBClassifier(random_state=13)\n",
    "model_xgb.fit(X2_train[feature_names_2], y2_train)\n",
    "\n",
    "y_train_pred = model_xgb.predict(X2_train[feature_names_2])\n",
    "y_test_pred = model_xgb.predict(X2_val[feature_names_2])\n",
    "\n",
    "get_classification_report(y2_train, y_train_pred, y2_val, y_test_pred)"
   ]
  },
  {
   "cell_type": "markdown",
   "id": "73d645ea",
   "metadata": {},
   "source": [
    "#### Модель LightGBM"
   ]
  },
  {
   "cell_type": "code",
   "execution_count": 67,
   "id": "0c1e1a51",
   "metadata": {},
   "outputs": [
    {
     "name": "stdout",
     "output_type": "stream",
     "text": [
      "TRAIN\n",
      "\n",
      "              precision    recall  f1-score   support\n",
      "\n",
      "           0       0.88      1.00      0.93      4281\n",
      "           1       0.98      0.65      0.78      1719\n",
      "\n",
      "    accuracy                           0.90      6000\n",
      "   macro avg       0.93      0.82      0.86      6000\n",
      "weighted avg       0.91      0.90      0.89      6000\n",
      "\n",
      "TEST\n",
      "\n",
      "              precision    recall  f1-score   support\n",
      "\n",
      "           0       0.80      0.94      0.87      1106\n",
      "           1       0.68      0.36      0.47       394\n",
      "\n",
      "    accuracy                           0.79      1500\n",
      "   macro avg       0.74      0.65      0.67      1500\n",
      "weighted avg       0.77      0.79      0.76      1500\n",
      "\n",
      "CONFUSION MATRIX\n",
      "\n",
      "col_0              0    1\n",
      "Credit Default           \n",
      "0               1038   68\n",
      "1                252  142\n"
     ]
    }
   ],
   "source": [
    "model_lgbm = lgbm.LGBMClassifier(random_state=13)\n",
    "model_lgbm.fit(X2_train[feature_names_2], y2_train)\n",
    "\n",
    "y_train_pred = model_lgbm.predict(X2_train[feature_names_2])\n",
    "y_test_pred = model_lgbm.predict(X2_val[feature_names_2])\n",
    "\n",
    "get_classification_report(y2_train, y_train_pred, y2_val, y_test_pred)"
   ]
  },
  {
   "cell_type": "markdown",
   "id": "0e2a4713",
   "metadata": {},
   "source": [
    "#### Модель CatBoost"
   ]
  },
  {
   "cell_type": "markdown",
   "id": "959d9790",
   "metadata": {},
   "source": [
    "Приведение типов:"
   ]
  },
  {
   "cell_type": "code",
   "execution_count": 68,
   "id": "94824c50",
   "metadata": {},
   "outputs": [
    {
     "name": "stderr",
     "output_type": "stream",
     "text": [
      "<ipython-input-68-0dd612693da7>:2: SettingWithCopyWarning: \n",
      "A value is trying to be set on a copy of a slice from a DataFrame.\n",
      "Try using .loc[row_indexer,col_indexer] = value instead\n",
      "\n",
      "See the caveats in the documentation: https://pandas.pydata.org/pandas-docs/stable/user_guide/indexing.html#returning-a-view-versus-a-copy\n",
      "  X1_train[name] = pd.Categorical(X1_train[name])\n",
      "<ipython-input-68-0dd612693da7>:3: SettingWithCopyWarning: \n",
      "A value is trying to be set on a copy of a slice from a DataFrame.\n",
      "Try using .loc[row_indexer,col_indexer] = value instead\n",
      "\n",
      "See the caveats in the documentation: https://pandas.pydata.org/pandas-docs/stable/user_guide/indexing.html#returning-a-view-versus-a-copy\n",
      "  X1_val[name] = pd.Categorical(X1_val[name])\n"
     ]
    }
   ],
   "source": [
    "for name in feature_cat_names:\n",
    "    X1_train[name] = pd.Categorical(X1_train[name])\n",
    "    X1_val[name] = pd.Categorical(X1_val[name])"
   ]
  },
  {
   "cell_type": "code",
   "execution_count": 69,
   "id": "d544e6ba",
   "metadata": {},
   "outputs": [
    {
     "data": {
      "text/plain": [
       "Home Ownership          category\n",
       "Years in current job    category\n",
       "Purpose                 category\n",
       "dtype: object"
      ]
     },
     "execution_count": 69,
     "metadata": {},
     "output_type": "execute_result"
    }
   ],
   "source": [
    "X1_train[feature_cat_names].dtypes"
   ]
  },
  {
   "cell_type": "code",
   "execution_count": 70,
   "id": "fd8298dc",
   "metadata": {},
   "outputs": [
    {
     "data": {
      "text/plain": [
       "Home Ownership          category\n",
       "Years in current job    category\n",
       "Purpose                 category\n",
       "dtype: object"
      ]
     },
     "execution_count": 70,
     "metadata": {},
     "output_type": "execute_result"
    }
   ],
   "source": [
    "X1_val[feature_cat_names].dtypes"
   ]
  },
  {
   "cell_type": "code",
   "execution_count": 71,
   "id": "a6ccf275",
   "metadata": {},
   "outputs": [
    {
     "name": "stdout",
     "output_type": "stream",
     "text": [
      "TRAIN\n",
      "\n",
      "              precision    recall  f1-score   support\n",
      "\n",
      "           0       0.82      0.99      0.90      4281\n",
      "           1       0.96      0.46      0.62      1719\n",
      "\n",
      "    accuracy                           0.84      6000\n",
      "   macro avg       0.89      0.73      0.76      6000\n",
      "weighted avg       0.86      0.84      0.82      6000\n",
      "\n",
      "TEST\n",
      "\n",
      "              precision    recall  f1-score   support\n",
      "\n",
      "           0       0.80      0.97      0.88      1106\n",
      "           1       0.78      0.32      0.46       394\n",
      "\n",
      "    accuracy                           0.80      1500\n",
      "   macro avg       0.79      0.64      0.67      1500\n",
      "weighted avg       0.79      0.80      0.77      1500\n",
      "\n",
      "CONFUSION MATRIX\n",
      "\n",
      "col_0              0    1\n",
      "Credit Default           \n",
      "0               1070   36\n",
      "1                267  127\n"
     ]
    }
   ],
   "source": [
    "model_catb = catb.CatBoostClassifier(silent=True, cat_features=feature_cat_names, random_state=13)\n",
    "model_catb.fit(X1_train[feature_names_1], y1_train)\n",
    "\n",
    "y_train_pred = model_catb.predict(X1_train[feature_names_1])\n",
    "y_test_pred = model_catb.predict(X1_val[feature_names_1])\n",
    "\n",
    "get_classification_report(y1_train, y_train_pred, y1_val, y_test_pred)"
   ]
  },
  {
   "cell_type": "markdown",
   "id": "5b7e899e",
   "metadata": {},
   "source": [
    "### Выбор лучшей модели и подбор гиперпараметров"
   ]
  },
  {
   "cell_type": "markdown",
   "id": "6917c62f",
   "metadata": {},
   "source": [
    "Лучшая модель:"
   ]
  },
  {
   "cell_type": "code",
   "execution_count": 72,
   "id": "d0974532",
   "metadata": {},
   "outputs": [],
   "source": [
    "model_catb = catb.CatBoostClassifier(class_weights=[1, 3.5], silent=True, cat_features=feature_cat_names, random_state=13)"
   ]
  },
  {
   "cell_type": "markdown",
   "id": "43085f04",
   "metadata": {},
   "source": [
    "Подбор гиперпараметров:"
   ]
  },
  {
   "cell_type": "code",
   "execution_count": 73,
   "id": "f20094f5",
   "metadata": {},
   "outputs": [],
   "source": [
    "params = {'n_estimators':[40, 50, 100, 200, 500, 700, 1000, 1500],\n",
    "          'max_depth':[1, 3, 5, 7]}"
   ]
  },
  {
   "cell_type": "code",
   "execution_count": 74,
   "id": "3cc34be6",
   "metadata": {},
   "outputs": [],
   "source": [
    "cv=KFold(n_splits=5, random_state=13, shuffle=True)"
   ]
  },
  {
   "cell_type": "markdown",
   "id": "e5b4579d",
   "metadata": {},
   "source": [
    "Приведение типов:"
   ]
  },
  {
   "cell_type": "code",
   "execution_count": 76,
   "id": "90e7d5f1",
   "metadata": {},
   "outputs": [],
   "source": [
    "for name in feature_cat_names:\n",
    "    X1[name] = pd.Categorical(X1[name])"
   ]
  },
  {
   "cell_type": "code",
   "execution_count": 77,
   "id": "5c212ac7",
   "metadata": {},
   "outputs": [
    {
     "name": "stdout",
     "output_type": "stream",
     "text": [
      "CPU times: user 1.25 s, sys: 230 ms, total: 1.48 s\n",
      "Wall time: 2min 46s\n"
     ]
    },
    {
     "data": {
      "text/plain": [
       "RandomizedSearchCV(cv=KFold(n_splits=5, random_state=13, shuffle=True),\n",
       "                   estimator=<catboost.core.CatBoostClassifier object at 0x7f9e4c68fb20>,\n",
       "                   n_jobs=-1,\n",
       "                   param_distributions={'max_depth': [1, 3, 5, 7],\n",
       "                                        'n_estimators': [40, 50, 100, 200, 500,\n",
       "                                                         700, 1000, 1500]},\n",
       "                   scoring='f1')"
      ]
     },
     "execution_count": 77,
     "metadata": {},
     "output_type": "execute_result"
    }
   ],
   "source": [
    "%%time\n",
    "\n",
    "rs = RandomizedSearchCV(model_catb, params, scoring='f1', cv=cv, n_jobs=-1)\n",
    "rs.fit(X1, y1)"
   ]
  },
  {
   "cell_type": "code",
   "execution_count": 78,
   "id": "a9e804fd",
   "metadata": {},
   "outputs": [
    {
     "data": {
      "text/plain": [
       "{'n_estimators': 100, 'max_depth': 5}"
      ]
     },
     "execution_count": 78,
     "metadata": {},
     "output_type": "execute_result"
    }
   ],
   "source": [
    "rs.best_params_"
   ]
  },
  {
   "cell_type": "code",
   "execution_count": 79,
   "id": "eb79a9fe",
   "metadata": {},
   "outputs": [
    {
     "data": {
      "text/plain": [
       "0.5408237778326029"
      ]
     },
     "execution_count": 79,
     "metadata": {},
     "output_type": "execute_result"
    }
   ],
   "source": [
    "rs.best_score_"
   ]
  },
  {
   "cell_type": "markdown",
   "id": "0f090768",
   "metadata": {},
   "source": [
    "Обучение и оценка финальной модели:"
   ]
  },
  {
   "cell_type": "code",
   "execution_count": 80,
   "id": "881ac0e7",
   "metadata": {},
   "outputs": [
    {
     "name": "stdout",
     "output_type": "stream",
     "text": [
      "TRAIN\n",
      "\n",
      "              precision    recall  f1-score   support\n",
      "\n",
      "           0       0.79      0.98      0.87      4281\n",
      "           1       0.89      0.33      0.48      1719\n",
      "\n",
      "    accuracy                           0.80      6000\n",
      "   macro avg       0.84      0.66      0.68      6000\n",
      "weighted avg       0.82      0.80      0.76      6000\n",
      "\n",
      "TEST\n",
      "\n",
      "              precision    recall  f1-score   support\n",
      "\n",
      "           0       0.79      0.98      0.88      1106\n",
      "           1       0.81      0.29      0.43       394\n",
      "\n",
      "    accuracy                           0.80      1500\n",
      "   macro avg       0.80      0.63      0.65      1500\n",
      "weighted avg       0.80      0.80      0.76      1500\n",
      "\n",
      "CONFUSION MATRIX\n",
      "\n",
      "col_0              0    1\n",
      "Credit Default           \n",
      "0               1079   27\n",
      "1                279  115\n",
      "CPU times: user 859 ms, sys: 98.8 ms, total: 958 ms\n",
      "Wall time: 484 ms\n"
     ]
    }
   ],
   "source": [
    "%%time\n",
    "\n",
    "final_model = catb.CatBoostClassifier(n_estimators=100, max_depth=5,\n",
    "                                      silent=True, cat_features=feature_cat_names,\n",
    "                                      random_state=13)\n",
    "final_model.fit(X1_train, y1_train)\n",
    "\n",
    "y_train_pred = final_model.predict(X1_train)\n",
    "y_test_pred = final_model.predict(X1_val)\n",
    "\n",
    "get_classification_report(y1_train, y_train_pred, y1_val, y_test_pred)"
   ]
  },
  {
   "cell_type": "markdown",
   "id": "eee867ed",
   "metadata": {},
   "source": [
    "### Дальнейшее улучшение модели"
   ]
  },
  {
   "cell_type": "markdown",
   "id": "ef800411",
   "metadata": {},
   "source": [
    "Снижение степени переобучения:"
   ]
  },
  {
   "cell_type": "code",
   "execution_count": 82,
   "id": "cbb75198",
   "metadata": {},
   "outputs": [
    {
     "name": "stdout",
     "output_type": "stream",
     "text": [
      "TRAIN\n",
      "\n",
      "              precision    recall  f1-score   support\n",
      "\n",
      "           0       0.75      1.00      0.86      4281\n",
      "           1       1.00      0.18      0.31      1719\n",
      "\n",
      "    accuracy                           0.77      6000\n",
      "   macro avg       0.88      0.59      0.58      6000\n",
      "weighted avg       0.82      0.77      0.70      6000\n",
      "\n",
      "TEST\n",
      "\n",
      "              precision    recall  f1-score   support\n",
      "\n",
      "           0       0.78      1.00      0.88      1106\n",
      "           1       1.00      0.20      0.34       394\n",
      "\n",
      "    accuracy                           0.79      1500\n",
      "   macro avg       0.89      0.60      0.61      1500\n",
      "weighted avg       0.84      0.79      0.73      1500\n",
      "\n",
      "CONFUSION MATRIX\n",
      "\n",
      "col_0              0   1\n",
      "Credit Default          \n",
      "0               1106   0\n",
      "1                314  80\n",
      "CPU times: user 860 ms, sys: 92.3 ms, total: 952 ms\n",
      "Wall time: 467 ms\n"
     ]
    }
   ],
   "source": [
    "%%time\n",
    "\n",
    "final_model = catb.CatBoostClassifier(n_estimators=100, max_depth=5,\n",
    "                                      l2_leaf_reg=10, silent=True, \n",
    "                                      cat_features=feature_cat_names,\n",
    "                                      random_state=13)\n",
    "final_model.fit(X1_train, y1_train)\n",
    "\n",
    "y_train_pred = final_model.predict(X1_train)\n",
    "y_test_pred = final_model.predict(X1_val)\n",
    "\n",
    "get_classification_report(y1_train, y_train_pred, y1_val, y_test_pred)"
   ]
  },
  {
   "cell_type": "markdown",
   "id": "7a77a54e",
   "metadata": {},
   "source": [
    "Отбор признаков по степени важности:"
   ]
  },
  {
   "cell_type": "code",
   "execution_count": 83,
   "id": "b910eeff",
   "metadata": {},
   "outputs": [
    {
     "name": "stderr",
     "output_type": "stream",
     "text": [
      "/Users/alexander/opt/anaconda3/lib/python3.8/site-packages/seaborn/_decorators.py:36: FutureWarning: Pass the following variables as keyword args: x, y. From version 0.12, the only valid positional argument will be `data`, and passing other arguments without an explicit keyword will result in an error or misinterpretation.\n",
      "  warnings.warn(\n"
     ]
    },
    {
     "data": {
      "image/png": "[encoded data removed]",
      "text/plain": [
       "<Figure size 1440x408.96 with 1 Axes>"
      ]
     },
     "metadata": {
      "needs_background": "light"
     },
     "output_type": "display_data"
    }
   ],
   "source": [
    "important_features_top = show_feature_importances(X1_train.columns, final_model.feature_importances_,get_top=8)"
   ]
  },
  {
   "cell_type": "code",
   "execution_count": 84,
   "id": "2e8392f4",
   "metadata": {},
   "outputs": [
    {
     "data": {
      "text/plain": [
       "['Credit Score',\n",
       " 'Current Loan Amount',\n",
       " 'Term',\n",
       " 'Annual Income',\n",
       " 'Maximum Open Credit',\n",
       " 'Home Ownership',\n",
       " 'Monthly Debt',\n",
       " 'Number of Open Accounts']"
      ]
     },
     "execution_count": 84,
     "metadata": {},
     "output_type": "execute_result"
    }
   ],
   "source": [
    "important_features_top"
   ]
  },
  {
   "cell_type": "code",
   "execution_count": 85,
   "id": "aba5b622",
   "metadata": {},
   "outputs": [
    {
     "data": {
      "text/plain": [
       "['Home Ownership']"
      ]
     },
     "execution_count": 85,
     "metadata": {},
     "output_type": "execute_result"
    }
   ],
   "source": [
    "important_cat_features_top = [feature for feature in feature_cat_names if feature in important_features_top]\n",
    "important_cat_features_top"
   ]
  },
  {
   "cell_type": "markdown",
   "id": "68cdbb47",
   "metadata": {},
   "source": [
    "Финальная модель:"
   ]
  },
  {
   "cell_type": "code",
   "execution_count": 86,
   "id": "f2b286c3",
   "metadata": {},
   "outputs": [
    {
     "name": "stdout",
     "output_type": "stream",
     "text": [
      "TRAIN\n",
      "\n",
      "              precision    recall  f1-score   support\n",
      "\n",
      "           0       0.75      1.00      0.86      4281\n",
      "           1       1.00      0.18      0.31      1719\n",
      "\n",
      "    accuracy                           0.77      6000\n",
      "   macro avg       0.88      0.59      0.58      6000\n",
      "weighted avg       0.82      0.77      0.70      6000\n",
      "\n",
      "TEST\n",
      "\n",
      "              precision    recall  f1-score   support\n",
      "\n",
      "           0       0.78      1.00      0.88      1106\n",
      "           1       1.00      0.20      0.34       394\n",
      "\n",
      "    accuracy                           0.79      1500\n",
      "   macro avg       0.89      0.60      0.61      1500\n",
      "weighted avg       0.84      0.79      0.73      1500\n",
      "\n",
      "CONFUSION MATRIX\n",
      "\n",
      "col_0              0   1\n",
      "Credit Default          \n",
      "0               1106   0\n",
      "1                314  80\n",
      "CPU times: user 605 ms, sys: 82.4 ms, total: 687 ms\n",
      "Wall time: 379 ms\n"
     ]
    }
   ],
   "source": [
    "%%time\n",
    "\n",
    "final_model = catb.CatBoostClassifier(n_estimators=100, max_depth=5,\n",
    "                                      l2_leaf_reg=10, silent=True, \n",
    "                                      cat_features=important_cat_features_top,\n",
    "                                      random_state=13)\n",
    "final_model.fit(X1_train[important_features_top], y1_train)\n",
    "\n",
    "y_train_pred = final_model.predict(X1_train[important_features_top])\n",
    "y_test_pred = final_model.predict(X1_val[important_features_top])\n",
    "\n",
    "get_classification_report(y1_train, y_train_pred, y1_val, y_test_pred)"
   ]
  },
  {
   "cell_type": "markdown",
   "id": "da453560",
   "metadata": {},
   "source": [
    "Прогноз финальной модели на тестовом датасете: "
   ]
  },
  {
   "cell_type": "code",
   "execution_count": 97,
   "id": "7e79584c",
   "metadata": {},
   "outputs": [
    {
     "name": "stdout",
     "output_type": "stream",
     "text": [
      "CPU times: user 529 ms, sys: 72.3 ms, total: 602 ms\n",
      "Wall time: 453 ms\n"
     ]
    },
    {
     "data": {
      "text/plain": [
       "array([0, 0, 1, ..., 0, 0, 1])"
      ]
     },
     "execution_count": 97,
     "metadata": {},
     "output_type": "execute_result"
    }
   ],
   "source": [
    "%%time\n",
    "\n",
    "final_model = catb.CatBoostClassifier(n_estimators=100, max_depth=5,\n",
    "                                      l2_leaf_reg=10, silent=True, \n",
    "                                      cat_features=important_cat_features_top,\n",
    "                                      random_state=13)\n",
    "final_model.fit(X1[important_features_top], y1)\n",
    "\n",
    "y_pred = final_model.predict(df_test[important_features_top])\n",
    "y_pred"
   ]
  },
  {
   "cell_type": "code",
   "execution_count": 98,
   "id": "76affd52",
   "metadata": {},
   "outputs": [
    {
     "data": {
      "text/html": [
       "<div>\n",
       "<style scoped>\n",
       "    .dataframe tbody tr th:only-of-type {\n",
       "        vertical-align: middle;\n",
       "    }\n",
       "\n",
       "    .dataframe tbody tr th {\n",
       "        vertical-align: top;\n",
       "    }\n",
       "\n",
       "    .dataframe thead th {\n",
       "        text-align: right;\n",
       "    }\n",
       "</style>\n",
       "<table border=\"1\" class=\"dataframe\">\n",
       "  <thead>\n",
       "    <tr style=\"text-align: right;\">\n",
       "      <th></th>\n",
       "      <th>Id</th>\n",
       "      <th>Price</th>\n",
       "    </tr>\n",
       "  </thead>\n",
       "  <tbody>\n",
       "    <tr>\n",
       "      <th>0</th>\n",
       "      <td>0</td>\n",
       "      <td>0</td>\n",
       "    </tr>\n",
       "    <tr>\n",
       "      <th>1</th>\n",
       "      <td>1</td>\n",
       "      <td>0</td>\n",
       "    </tr>\n",
       "    <tr>\n",
       "      <th>2</th>\n",
       "      <td>2</td>\n",
       "      <td>1</td>\n",
       "    </tr>\n",
       "    <tr>\n",
       "      <th>3</th>\n",
       "      <td>3</td>\n",
       "      <td>0</td>\n",
       "    </tr>\n",
       "    <tr>\n",
       "      <th>4</th>\n",
       "      <td>4</td>\n",
       "      <td>0</td>\n",
       "    </tr>\n",
       "  </tbody>\n",
       "</table>\n",
       "</div>"
      ],
      "text/plain": [
       "   Id  Price\n",
       "0   0      0\n",
       "1   1      0\n",
       "2   2      1\n",
       "3   3      0\n",
       "4   4      0"
      ]
     },
     "execution_count": 98,
     "metadata": {},
     "output_type": "execute_result"
    }
   ],
   "source": [
    "preds = pd.DataFrame()\n",
    "preds['Id'] = df_test.index\n",
    "preds['Price'] = y_pred\n",
    "preds.head()"
   ]
  },
  {
   "cell_type": "code",
   "execution_count": 99,
   "id": "a1cd0349",
   "metadata": {},
   "outputs": [],
   "source": [
    "preds.to_csv('AVDunaev_predictions_2.csv', index=False)"
   ]
  },
  {
   "cell_type": "code",
   "execution_count": null,
   "id": "804ad11c",
   "metadata": {},
   "outputs": [],
   "source": []
  }
 ],
 "metadata": {
  "kernelspec": {
   "display_name": "Python 3 (ipykernel)",
   "language": "python",
   "name": "python3"
  },
  "language_info": {
   "codemirror_mode": {
    "name": "ipython",
    "version": 3
   },
   "file_extension": ".py",
   "mimetype": "text/x-python",
   "name": "python",
   "nbconvert_exporter": "python",
   "pygments_lexer": "ipython3",
   "version": "3.9.7"
  }
 },
 "nbformat": 4,
 "nbformat_minor": 5
}
